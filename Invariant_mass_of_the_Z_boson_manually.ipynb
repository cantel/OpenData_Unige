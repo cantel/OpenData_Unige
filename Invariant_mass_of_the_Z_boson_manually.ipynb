{
 "cells": [
  {
   "cell_type": "markdown",
   "id": "37288de8",
   "metadata": {},
   "source": [
    "# Session 2 : Find the invariant mass of the Z boson!\n",
    "\n",
    "## Welcome to the Session 2 !\n",
    "This notebook uses ATLAS Open Data http://opendata.atlas.cern to show you the steps to find and calculate the mass of the Z boson decaying to two leptons of same flavour (either electron or muon) and opposite charge.<br>"
   ]
  },
  {
   "cell_type": "markdown",
   "id": "92c276dd",
   "metadata": {},
   "source": [
    "Example of a Z boson decaying to two electrons: <CENTER><img src=\"images/Z_ElectronPositron.png\" style=\"width:40%\"></CENTER>"
   ]
  },
  {
   "cell_type": "markdown",
   "id": "5bb54c30",
   "metadata": {},
   "source": [
    "**By the end of this notebook you will be able to:**\n",
    "1. Work using the ROOT dataframe (pyROOT)\n",
    "2. Manipulate the data and find the Z boson by yourself by applying relevant event selections \n",
    "3. Calculate the Z invariant mass by hand\n",
    "4. Plot the Z invariant mass\n",
    "5. Perform a fit on the mass\n",
    "\n",
    "The whole notebook takes less that an hour to follow through!"
   ]
  },
  {
   "cell_type": "markdown",
   "id": "4f804218",
   "metadata": {},
   "source": [
    "## pyROOT\n",
    "The library used is ROOT - a scientific software framework that provides all the functionalities needed to deal with big data processing, statistical analysis, visualization and storage.<br>\n",
    "\n",
    "First of all, ROOT is imported to read the files in the .root data format.<br>\n",
    "\n",
    "**Reminder from previous season:** A .root file consists of a tree having branches and leaves.<br>\n",
    "\n",
    "At this point you could also import further programs that contain other formulas that you maybe use more often. But here we don't import other programs for the sake of simplicity:"
   ]
  },
  {
   "cell_type": "code",
   "execution_count": 1,
   "id": "4840d386",
   "metadata": {
    "scrolled": true
   },
   "outputs": [
    {
     "name": "stdout",
     "output_type": "stream",
     "text": [
      "Welcome to JupyROOT 6.26/02\n"
     ]
    }
   ],
   "source": [
    "import ROOT"
   ]
  },
  {
   "cell_type": "markdown",
   "id": "2cfd4d48",
   "metadata": {},
   "source": [
    "To increase flexibility during this session, we can directly access a significant module from ROOT, namely **TMath**. TMath offers a wide range of mathematical functions and operations that we will use extensively:"
   ]
  },
  {
   "cell_type": "code",
   "execution_count": 2,
   "id": "36f8e1fc",
   "metadata": {},
   "outputs": [],
   "source": [
    "from ROOT import TMath"
   ]
  },
  {
   "cell_type": "markdown",
   "id": "dfbf80ac",
   "metadata": {},
   "source": [
    "In order to activate visualisation of the histogram that is later created we can use the JSROOT magic:"
   ]
  },
  {
   "cell_type": "code",
   "execution_count": 3,
   "id": "49d1c6d1",
   "metadata": {},
   "outputs": [],
   "source": [
    "%jsroot on"
   ]
  },
  {
   "cell_type": "markdown",
   "id": "07ae5025",
   "metadata": {},
   "source": [
    "## Where is my data?"
   ]
  },
  {
   "cell_type": "markdown",
   "id": "51381b0c",
   "metadata": {},
   "source": [
    "Next, we have to open the data that we want to analyze, stored in a *.root file:"
   ]
  },
  {
   "cell_type": "code",
   "execution_count": null,
   "id": "ad4e0405",
   "metadata": {},
   "outputs": [],
   "source": [
    "## CHOOSE here which sample to use!!\n",
    "\n",
    "filename = \"mc_361106.Zee.1largeRjet1lep.root\"\n",
    "url = \"https://atlas-opendata.web.cern.ch/atlas-opendata/samples/2020/1largeRjet1lep/MC/\"\n",
    "f = ROOT.TFile.Open(url+filename)"
   ]
  },
  {
   "cell_type": "markdown",
   "id": "9ad7704f",
   "metadata": {},
   "source": [
    "After the data is opened, we create a canvas on which we can draw a histogram. If we do not have a canvas we cannot see our histogram at the end. Its name is **Canvas** and its header is **c**. The two following arguments define the width and the height of the canvas."
   ]
  },
  {
   "cell_type": "code",
   "execution_count": null,
   "id": "558fb7fa",
   "metadata": {},
   "outputs": [],
   "source": [
    "canvas = ROOT.TCanvas(\"Canvas\", \"c\", 800, 600)"
   ]
  },
  {
   "cell_type": "markdown",
   "id": "e4ea4d07",
   "metadata": {},
   "source": [
    "The next step is to define a tree named **tree** to get the data out of the *.root file:"
   ]
  },
  {
   "cell_type": "code",
   "execution_count": null,
   "id": "bf6e24e0",
   "metadata": {},
   "outputs": [],
   "source": [
    "tree = f.Get(\"mini\")\n",
    "tree.GetEntries()"
   ]
  },
  {
   "cell_type": "markdown",
   "id": "3b9f89de",
   "metadata": {},
   "source": [
    "Now, we define a histogram that will later be placed on this canvas. Its name is variable, the header of the histogram is Mass of the Z boson, the x axis is named mass[GeV] and the y axis is name events, The three following arguments indicate that this histogram contains 30 bins which have a range from 40 to 140."
   ]
  },
  {
   "cell_type": "code",
   "execution_count": null,
   "id": "a37ed34d",
   "metadata": {},
   "outputs": [],
   "source": [
    "hist = ROOT.TH1F(\"variable\",\"Mass of the Z boson; mass [GeV]; events\",30,40,140)"
   ]
  },
  {
   "cell_type": "markdown",
   "id": "5b44fff7",
   "metadata": {},
   "source": [
    "## Calculate the invariant mass!"
   ]
  },
  {
   "cell_type": "markdown",
   "id": "3728cbdb",
   "metadata": {},
   "source": [
    "The **selections** we should require in each event to ensure that the final state contains objects potentially comming from the Z boson are the followings:\n",
    "1. Exactly two leptons\n",
    "2. The two leptons to have opposite charge (the one positive and other negative)\n",
    "3. The two leptons to be from the same family (same flavor). E.g. two electrons or two muons\n",
    "\n",
    "After applying the selections above, the **calculation** of the the invariant mass is doen following these steps:\n",
    "1. If the energy of the 2 leptons are lep_E[0] and lep_E[1], write the sum of energy, sumE\n",
    "2. Write the sum of x-momentum, sumpx\n",
    "3. Do the same for y and z momenta (sumpy and sumpz)\n",
    "4. Now you have the x,y,z components sumpx,sumpy and sumpz. The vector **sump** = (sumpx,sumpy and sumpz). Write the magnitute of total momentum, sump.\n",
    "\n",
    "The invariant mass, M, of a parent particle decaying to two daughter particles is related to properties of the daughter particles by the formula:\n",
    "\n",
    "$$M^2 = E^2 - p^2$$\n",
    "\n",
    "where E is the total energy of the daughter particles, and p the magnitute of the vector sum of the momenta of the daughter particles. This is written assuming c=1 (natural units)"
   ]
  },
  {
   "cell_type": "markdown",
   "id": "e2ff395d",
   "metadata": {},
   "source": [
    "Time to fill our histogram defined previously, following the instructions above. At first, we define the aforementioned variables and then we loop over the data:"
   ]
  },
  {
   "cell_type": "code",
   "execution_count": null,
   "id": "fbe202ad",
   "metadata": {},
   "outputs": [],
   "source": [
    "def has_two_leptons(event):\n",
    "    return event.lep_n == 2\n",
    "\n",
    "def has_opposite_charge_leptons(event):\n",
    "    return event.lep_charge[0] != event.lep_charge[1]\n",
    "\n",
    "def has_same_family_leptons(event):\n",
    "    return event.lep_type[0] == event.lep_type[1]\n",
    "\n",
    "def compute_mll(event):\n",
    "    sumE = event.lep_E[0] + event.lep_E[1]\n",
    "\n",
    "    px_leading = event.lep_pt[0]*TMath.Cos(event.lep_phi[0])\n",
    "    px_subleading = event.lep_pt[1]*TMath.Cos(event.lep_phi[1])\n",
    "\n",
    "    py_leading = event.lep_pt[0]*TMath.Sin(event.lep_phi[0])\n",
    "    py_subleading = event.lep_pt[1]*TMath.Sin(event.lep_phi[1])\n",
    "\n",
    "    pz_leading = event.lep_pt[0]*TMath.SinH(event.lep_eta[0])\n",
    "    pz_subleading = event.lep_pt[1]*TMath.SinH(event.lep_eta[1])    \n",
    "\n",
    "    sumpx = px_leading + px_subleading\n",
    "    sumpy = py_leading + py_subleading\n",
    "    sumpz = pz_leading + pz_subleading\n",
    "    sump = TMath.Sqrt(TMath.Power(sumpx,2) + TMath.Power(sumpy,2) + TMath.Power(sumpz,2))\n",
    "    Mll = TMath.Sqrt((TMath.Power(sumE,2) - TMath.Power(sump,2)))/1000.\n",
    "\n",
    "    return Mll\n",
    "\n",
    "# Main code\n",
    "for event in tree:\n",
    "    if has_two_leptons(event) and has_opposite_charge_leptons(event) and has_same_family_leptons(event):\n",
    "        Mll = compute_mll(event)\n",
    "        hist.Fill(Mll)"
   ]
  },
  {
   "cell_type": "markdown",
   "id": "86d9621d",
   "metadata": {},
   "source": [
    "After filling the histogram we want to see the results of the analysis. First, we draw the histogram on the canvas and then the canvas on which the histogram lies."
   ]
  },
  {
   "cell_type": "code",
   "execution_count": null,
   "id": "5f211b1f",
   "metadata": {},
   "outputs": [],
   "source": [
    "hist.Draw()\n",
    "hist.SetFillColor(8)"
   ]
  },
  {
   "cell_type": "code",
   "execution_count": null,
   "id": "ed403344",
   "metadata": {},
   "outputs": [],
   "source": [
    "canvas.Draw()"
   ]
  },
  {
   "cell_type": "markdown",
   "id": "3425ad37",
   "metadata": {},
   "source": [
    "## Fitting the histogram"
   ]
  },
  {
   "cell_type": "markdown",
   "id": "11701e57",
   "metadata": {},
   "source": [
    "Now try to fit the mass resonance of the W boson using the \"Fit\" procedure from ROOT. For this we will use the **Breit-Wigner (BW)** Function. The BW function is a probability density function that describes the probability of a particle with a certain mass and width decaying into other particles."
   ]
  },
  {
   "cell_type": "code",
   "execution_count": null,
   "id": "d37f92eb",
   "metadata": {
    "scrolled": false
   },
   "outputs": [],
   "source": [
    "# Define Breit-Wigner function\n",
    "fBW = ROOT.TF1(\"fBW\", \"[0]/((x-[1])*(x-[1])+([2]*[2])/4)\", 60, 120)\n",
    "\n",
    "# Set initial parameter values\n",
    "fBW.SetParameter(0, hist.GetMaximum()) # Overall normalization\n",
    "fBW.SetParameter(1, 91.2) # Mass of the Z boson\n",
    "fBW.SetParameter(2, 2.5)  # Width of the Z boson resonance\n",
    "\n",
    "# Fit histogram with Breit-Wigner function\n",
    "fit_result = hist.Fit(\"fBW\",\"RS\")\n",
    "\n",
    "# Print the fit parameters\n",
    "print(\"Normalization: {}\".format(fBW.GetParameter(0)))\n",
    "print(\"Mass: {}\".format(fBW.GetParameter(1)))\n",
    "print(\"Width: {}\".format(fBW.GetParameter(2)))"
   ]
  },
  {
   "cell_type": "code",
   "execution_count": null,
   "id": "9953134c",
   "metadata": {},
   "outputs": [],
   "source": [
    "fBW.Draw(\"sames\")"
   ]
  },
  {
   "cell_type": "code",
   "execution_count": null,
   "id": "f2fc6a32",
   "metadata": {
    "scrolled": false
   },
   "outputs": [],
   "source": [
    "canvas.Draw()"
   ]
  },
  {
   "cell_type": "markdown",
   "id": "91842cc0",
   "metadata": {},
   "source": [
    "Extending the range of the y-axis would provide a clearer view of the fitting curve:"
   ]
  },
  {
   "cell_type": "code",
   "execution_count": null,
   "id": "2f2214d8",
   "metadata": {},
   "outputs": [],
   "source": [
    "hist.GetYaxis().SetRangeUser(0, hist.GetMaximum()+0.4*hist.GetMaximum())"
   ]
  },
  {
   "cell_type": "code",
   "execution_count": null,
   "id": "af841b27",
   "metadata": {
    "scrolled": false
   },
   "outputs": [],
   "source": [
    "canvas.Draw()"
   ]
  },
  {
   "cell_type": "markdown",
   "id": "1464881a",
   "metadata": {},
   "source": [
    "**Question:** How can we improve the fitting procedure above?"
   ]
  }
 ],
 "metadata": {
  "kernelspec": {
   "display_name": "Python 3 (ipykernel)",
   "language": "python",
   "name": "python3"
  },
  "language_info": {
   "codemirror_mode": {
    "name": "ipython",
    "version": 3
   },
   "file_extension": ".py",
   "mimetype": "text/x-python",
   "name": "python",
   "nbconvert_exporter": "python",
   "pygments_lexer": "ipython3",
   "version": "3.10.4"
  }
 },
 "nbformat": 4,
 "nbformat_minor": 5
}
