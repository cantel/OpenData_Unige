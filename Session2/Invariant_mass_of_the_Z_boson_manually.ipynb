{
 "cells": [
  {
   "cell_type": "markdown",
   "id": "37288de8",
   "metadata": {},
   "source": [
    "# Session 2 : Find the invariant mass of the Z boson!\n",
    "\n",
    "## Welcome to the Session 2 !\n",
    "This notebook uses ATLAS Open Data http://opendata.atlas.cern to show you the steps to find and calculate the mass of the Z boson decaying to two leptons of same flavour (either electron or muon) and opposite charge.<br>"
   ]
  },
  {
   "cell_type": "markdown",
   "id": "c956d123",
   "metadata": {},
   "source": [
    "Example of a Z boson decaying to two electrons: <CENTER><img src=\"images/Z_ElectronPositron.png\" style=\"width:40%\"></CENTER>"
   ]
  },
  {
   "cell_type": "markdown",
   "id": "f2fa03a4",
   "metadata": {},
   "source": [
    "**By the end of this notebook you will be able to:**\n",
    "1. Work using the ROOT dataframe (pyROOT)\n",
    "2. Manipulate the data and find the Z boson by yourself by applying relevant event selections \n",
    "3. Calculate the Z invariant mass by hand\n",
    "4. Plot the Z invariant mass\n",
    "5. Perform a fit on the mass\n",
    "\n",
    "The whole notebook takes less that an hour to follow through!"
   ]
  },
  {
   "cell_type": "markdown",
   "id": "6b2be533",
   "metadata": {},
   "source": [
    "## pyROOT\n",
    "The library used is ROOT - a scientific software framework that provides all the functionalities needed to deal with big data processing, statistical analysis, visualization and storage.<br>\n",
    "\n",
    "First of all, ROOT is imported to read the files in the .root data format.<br>\n",
    "\n",
    "**Reminder from previous season:** A .root file consists of a tree having branches and leaves.<br>\n",
    "\n",
    "At this point you could also import further programs that contain other formulas that you maybe use more often. But here we don't import other programs for the sake of simplicity:"
   ]
  },
  {
   "cell_type": "code",
   "execution_count": 1,
   "id": "4840d386",
   "metadata": {
    "scrolled": true
   },
   "outputs": [
    {
     "name": "stdout",
     "output_type": "stream",
     "text": [
      "Welcome to JupyROOT 6.26/02\n"
     ]
    }
   ],
   "source": [
    "import ROOT"
   ]
  },
  {
   "cell_type": "markdown",
   "id": "5d7b9fcd",
   "metadata": {},
   "source": [
    "To increase flexibility during this session, we can directly access a significant module from ROOT, namely **TMath**. TMath offers a wide range of mathematical functions and operations that we will use extensively:"
   ]
  },
  {
   "cell_type": "code",
   "execution_count": 2,
   "id": "8537eee5",
   "metadata": {},
   "outputs": [],
   "source": [
    "from ROOT import TMath"
   ]
  },
  {
   "cell_type": "markdown",
   "id": "dfbf80ac",
   "metadata": {},
   "source": [
    "In order to activate visualisation of the histogram that is later created we can use the JSROOT magic:"
   ]
  },
  {
   "cell_type": "code",
   "execution_count": 3,
   "id": "49d1c6d1",
   "metadata": {},
   "outputs": [],
   "source": [
    "%jsroot on"
   ]
  },
  {
   "cell_type": "markdown",
   "id": "6353f81e",
   "metadata": {},
   "source": [
    "## Where is my data?"
   ]
  },
  {
   "cell_type": "markdown",
   "id": "51381b0c",
   "metadata": {},
   "source": [
    "Next, we have to open the data that we want to analyze, stored in a *.root file:"
   ]
  },
  {
   "cell_type": "code",
   "execution_count": 4,
   "id": "ad4e0405",
   "metadata": {},
   "outputs": [],
   "source": [
    "## CHOOSE here which sample to use!!\n",
    "\n",
    "filename = \"mc_361106.Zee.1largeRjet1lep.root\"\n",
    "url = \"https://atlas-opendata.web.cern.ch/atlas-opendata/samples/2020/1largeRjet1lep/MC/\"\n",
    "f = ROOT.TFile.Open(url+filename)"
   ]
  },
  {
   "cell_type": "markdown",
   "id": "9ad7704f",
   "metadata": {},
   "source": [
    "After the data is opened, we create a canvas on which we can draw a histogram. If we do not have a canvas we cannot see our histogram at the end. Its name is **Canvas** and its header is **c**. The two following arguments define the width and the height of the canvas."
   ]
  },
  {
   "cell_type": "code",
   "execution_count": 5,
   "id": "558fb7fa",
   "metadata": {},
   "outputs": [],
   "source": [
    "canvas = ROOT.TCanvas(\"Canvas\", \"c\", 800, 600)"
   ]
  },
  {
   "cell_type": "markdown",
   "id": "3263e766",
   "metadata": {},
   "source": [
    "The next step is to define a tree named **tree** to get the data out of the *.root file:"
   ]
  },
  {
   "cell_type": "code",
   "execution_count": 6,
   "id": "bf6e24e0",
   "metadata": {
    "scrolled": true
   },
   "outputs": [
    {
     "data": {
      "text/plain": [
       "53653"
      ]
     },
     "execution_count": 6,
     "metadata": {},
     "output_type": "execute_result"
    }
   ],
   "source": [
    "tree = f.Get(\"mini\")\n",
    "tree.GetEntries()"
   ]
  },
  {
   "cell_type": "markdown",
   "id": "2ff385a9",
   "metadata": {},
   "source": [
    "Print-out the variables stored in the tree from the ROOT file and try to understand their meaning:"
   ]
  },
  {
   "cell_type": "code",
   "execution_count": 7,
   "id": "5d35144e",
   "metadata": {},
   "outputs": [
    {
     "name": "stdout",
     "output_type": "stream",
     "text": [
      "******************************************************************************\n",
      "*Tree    :mini      : mini                                                   *\n",
      "*Entries :    53653 : Total =        58653531 bytes  File  Size =   19077105 *\n",
      "*        :          : Tree compression factor =   3.07                       *\n",
      "******************************************************************************\n",
      "*Br    0 :runNumber : runNumber/I                                            *\n",
      "*Entries :    53653 : Total  Size=     215761 bytes  File Size  =       1626 *\n",
      "*Baskets :        6 : Basket Size=      32000 bytes  Compression= 118.07     *\n",
      "*............................................................................*\n",
      "*Br    1 :eventNumber : eventNumber/I                                        *\n",
      "*Entries :    53653 : Total  Size=     215785 bytes  File Size  =     170114 *\n",
      "*Baskets :        6 : Basket Size=      32000 bytes  Compression=   1.13     *\n",
      "*............................................................................*\n",
      "*Br    2 :channelNumber : channelNumber/I                                    *\n",
      "*Entries :    53653 : Total  Size=     215809 bytes  File Size  =       1644 *\n",
      "*Baskets :        6 : Basket Size=      32000 bytes  Compression= 116.77     *\n",
      "*............................................................................*\n",
      "*Br    3 :mcWeight  : mcWeight/F                                             *\n",
      "*Entries :    53653 : Total  Size=     215749 bytes  File Size  =      76003 *\n",
      "*Baskets :        6 : Basket Size=      32000 bytes  Compression=   2.53     *\n",
      "*............................................................................*\n",
      "*Br    4 :scaleFactor_PILEUP : scaleFactor_PILEUP/F                          *\n",
      "*Entries :    53653 : Total  Size=     215869 bytes  File Size  =      55082 *\n",
      "*Baskets :        6 : Basket Size=      32000 bytes  Compression=   3.49     *\n",
      "*............................................................................*\n",
      "*Br    5 :scaleFactor_ELE : scaleFactor_ELE/F                                *\n",
      "*Entries :    53653 : Total  Size=     215833 bytes  File Size  =     108179 *\n",
      "*Baskets :        6 : Basket Size=      32000 bytes  Compression=   1.77     *\n",
      "*............................................................................*\n",
      "*Br    6 :scaleFactor_MUON : scaleFactor_MUON/F                              *\n",
      "*Entries :    53653 : Total  Size=     215845 bytes  File Size  =       3024 *\n",
      "*Baskets :        6 : Basket Size=      32000 bytes  Compression=  63.49     *\n",
      "*............................................................................*\n",
      "*Br    7 :scaleFactor_PHOTON : scaleFactor_PHOTON/F                          *\n",
      "*Entries :    53653 : Total  Size=     215869 bytes  File Size  =       1668 *\n",
      "*Baskets :        6 : Basket Size=      32000 bytes  Compression= 115.10     *\n",
      "*............................................................................*\n",
      "*Br    8 :scaleFactor_TAU : scaleFactor_TAU/F                                *\n",
      "*Entries :    53653 : Total  Size=     215833 bytes  File Size  =       1650 *\n",
      "*Baskets :        6 : Basket Size=      32000 bytes  Compression= 116.36     *\n",
      "*............................................................................*\n",
      "*Br    9 :scaleFactor_BTAG : scaleFactor_BTAG/F                              *\n",
      "*Entries :    53653 : Total  Size=     215845 bytes  File Size  =     138861 *\n",
      "*Baskets :        6 : Basket Size=      32000 bytes  Compression=   1.38     *\n",
      "*............................................................................*\n",
      "*Br   10 :scaleFactor_LepTRIGGER : scaleFactor_LepTRIGGER/F                  *\n",
      "*Entries :    53653 : Total  Size=     215917 bytes  File Size  =      61739 *\n",
      "*Baskets :        6 : Basket Size=      32000 bytes  Compression=   3.11     *\n",
      "*............................................................................*\n",
      "*Br   11 :scaleFactor_PhotonTRIGGER : scaleFactor_PhotonTRIGGER/F            *\n",
      "*Entries :    53653 : Total  Size=     215953 bytes  File Size  =       1710 *\n",
      "*Baskets :        6 : Basket Size=      32000 bytes  Compression= 112.27     *\n",
      "*............................................................................*\n",
      "*Br   12 :trigE     : trigE/O                                                *\n",
      "*Entries :    53653 : Total  Size=      54368 bytes  File Size  =        244 *\n",
      "*Baskets :        1 : Basket Size=      32000 bytes  Compression= 131.14     *\n",
      "*............................................................................*\n",
      "*Br   13 :trigM     : trigM/O                                                *\n",
      "*Entries :    53653 : Total  Size=      54368 bytes  File Size  =        244 *\n",
      "*Baskets :        1 : Basket Size=      32000 bytes  Compression= 131.14     *\n",
      "*............................................................................*\n",
      "*Br   14 :trigP     : trigP/O                                                *\n",
      "*Entries :    53653 : Total  Size=      54368 bytes  File Size  =        244 *\n",
      "*Baskets :        1 : Basket Size=      32000 bytes  Compression= 131.14     *\n",
      "*............................................................................*\n",
      "*Br   15 :lep_n     : lep_n/i                                                *\n",
      "*Entries :    53653 : Total  Size=     215713 bytes  File Size  =      19136 *\n",
      "*Baskets :        6 : Basket Size=      32000 bytes  Compression=  10.03     *\n",
      "*............................................................................*\n",
      "*Br   16 :lep_truthMatched : vector<bool>                                    *\n",
      "*Entries :    53653 : Total  Size=     848140 bytes  File Size  =     155871 *\n",
      "*Baskets :       33 : Basket Size=      32000 bytes  Compression=   5.41     *\n",
      "*............................................................................*\n",
      "*Br   17 :lep_trigMatched : vector<bool>                                     *\n",
      "*Entries :    53653 : Total  Size=     848101 bytes  File Size  =     172838 *\n",
      "*Baskets :       33 : Basket Size=      32000 bytes  Compression=   4.88     *\n",
      "*............................................................................*\n",
      "*Br   18 :lep_pt    : vector<float>                                          *\n",
      "*Entries :    53653 : Total  Size=    1126582 bytes  File Size  =     532748 *\n",
      "*Baskets :       41 : Basket Size=      32000 bytes  Compression=   2.07     *\n",
      "*............................................................................*\n",
      "*Br   19 :lep_eta   : vector<float>                                          *\n",
      "*Entries :    53653 : Total  Size=    1126629 bytes  File Size  =     557984 *\n",
      "*Baskets :       41 : Basket Size=      32000 bytes  Compression=   1.97     *\n",
      "*............................................................................*\n",
      "*Br   20 :lep_phi   : vector<float>                                          *\n",
      "*Entries :    53653 : Total  Size=    1126629 bytes  File Size  =     558409 *\n",
      "*Baskets :       41 : Basket Size=      32000 bytes  Compression=   1.97     *\n",
      "*............................................................................*\n",
      "*Br   21 :lep_E     : vector<float>                                          *\n",
      "*Entries :    53653 : Total  Size=    1126535 bytes  File Size  =     541673 *\n",
      "*Baskets :       41 : Basket Size=      32000 bytes  Compression=   2.03     *\n",
      "*............................................................................*\n",
      "*Br   22 :lep_z0    : vector<float>                                          *\n",
      "*Entries :    53653 : Total  Size=    1126582 bytes  File Size  =     493010 *\n",
      "*Baskets :       41 : Basket Size=      32000 bytes  Compression=   2.24     *\n",
      "*............................................................................*\n",
      "*Br   23 :lep_charge : vector<int>                                           *\n",
      "*Entries :    53653 : Total  Size=    1126770 bytes  File Size  =     197547 *\n",
      "*Baskets :       41 : Basket Size=      32000 bytes  Compression=   5.58     *\n",
      "*............................................................................*\n",
      "*Br   24 :lep_type  : vector<unsigned int>                                   *\n",
      "*Entries :    53653 : Total  Size=    1126676 bytes  File Size  =     152059 *\n",
      "*Baskets :       41 : Basket Size=      32000 bytes  Compression=   7.25     *\n",
      "*............................................................................*\n",
      "*Br   25 :lep_isTightID : vector<bool>                                       *\n",
      "*Entries :    53653 : Total  Size=     848023 bytes  File Size  =     167712 *\n",
      "*Baskets :       33 : Basket Size=      32000 bytes  Compression=   5.02     *\n",
      "*............................................................................*\n",
      "*Br   26 :lep_ptcone30 : vector<float>                                       *\n",
      "*Entries :    53653 : Total  Size=    1126864 bytes  File Size  =     265113 *\n",
      "*Baskets :       41 : Basket Size=      32000 bytes  Compression=   4.16     *\n",
      "*............................................................................*\n",
      "*Br   27 :lep_etcone20 : vector<float>                                       *\n",
      "*Entries :    53653 : Total  Size=    1126864 bytes  File Size  =     560740 *\n",
      "*Baskets :       41 : Basket Size=      32000 bytes  Compression=   1.97     *\n",
      "*............................................................................*\n",
      "*Br   28 :lep_trackd0pvunbiased : vector<float>                              *\n",
      "*Entries :    53653 : Total  Size=    1127287 bytes  File Size  =     561324 *\n",
      "*Baskets :       41 : Basket Size=      32000 bytes  Compression=   1.96     *\n",
      "*............................................................................*\n",
      "*Br   29 :lep_tracksigd0pvunbiased : vector<float>                           *\n",
      "*Entries :    53653 : Total  Size=    1127428 bytes  File Size  =     549429 *\n",
      "*Baskets :       41 : Basket Size=      32000 bytes  Compression=   2.01     *\n",
      "*............................................................................*\n",
      "*Br   30 :met_et    : met_et/f                                               *\n",
      "*Entries :    53653 : Total  Size=     215725 bytes  File Size  =     172405 *\n",
      "*Baskets :        6 : Basket Size=      32000 bytes  Compression=   1.11     *\n",
      "*............................................................................*\n",
      "*Br   31 :met_phi   : met_phi/f                                              *\n",
      "*Entries :    53653 : Total  Size=     215737 bytes  File Size  =     177869 *\n",
      "*Baskets :        6 : Basket Size=      32000 bytes  Compression=   1.08     *\n",
      "*............................................................................*\n",
      "*Br   32 :jet_n     : jet_n/i                                                *\n",
      "*Entries :    53653 : Total  Size=     215713 bytes  File Size  =      33816 *\n",
      "*Baskets :        6 : Basket Size=      32000 bytes  Compression=   5.68     *\n",
      "*............................................................................*\n",
      "*Br   33 :jet_pt    : vector<float>                                          *\n",
      "*Entries :    53653 : Total  Size=    1291892 bytes  File Size  =     739722 *\n",
      "*Baskets :       47 : Basket Size=      32000 bytes  Compression=   1.74     *\n",
      "*............................................................................*\n",
      "*Br   34 :jet_eta   : vector<float>                                          *\n",
      "*Entries :    53653 : Total  Size=    1291945 bytes  File Size  =     767158 *\n",
      "*Baskets :       47 : Basket Size=      32000 bytes  Compression=   1.68     *\n",
      "*............................................................................*\n",
      "*Br   35 :jet_phi   : vector<float>                                          *\n",
      "*Entries :    53653 : Total  Size=    1291945 bytes  File Size  =     767073 *\n",
      "*Baskets :       47 : Basket Size=      32000 bytes  Compression=   1.68     *\n",
      "*............................................................................*\n",
      "*Br   36 :jet_E     : vector<float>                                          *\n",
      "*Entries :    53653 : Total  Size=    1291839 bytes  File Size  =     748397 *\n",
      "*Baskets :       47 : Basket Size=      32000 bytes  Compression=   1.72     *\n",
      "*............................................................................*\n",
      "*Br   37 :jet_jvt   : vector<float>                                          *\n",
      "*Entries :    53653 : Total  Size=    1291945 bytes  File Size  =     656206 *\n",
      "*Baskets :       47 : Basket Size=      32000 bytes  Compression=   1.97     *\n",
      "*............................................................................*\n",
      "*Br   38 :jet_trueflav : vector<int>                                         *\n",
      "*Entries :    53653 : Total  Size=    1292210 bytes  File Size  =     254711 *\n",
      "*Baskets :       47 : Basket Size=      32000 bytes  Compression=   5.06     *\n",
      "*............................................................................*\n",
      "*Br   39 :jet_truthMatched : vector<bool>                                    *\n",
      "*Entries :    53653 : Total  Size=     889425 bytes  File Size  =     191619 *\n",
      "*Baskets :       34 : Basket Size=      32000 bytes  Compression=   4.57     *\n",
      "*............................................................................*\n",
      "*Br   40 :jet_MV2c10 : vector<float>                                         *\n",
      "*Entries :    53653 : Total  Size=    1292104 bytes  File Size  =     737794 *\n",
      "*Baskets :       47 : Basket Size=      32000 bytes  Compression=   1.75     *\n",
      "*............................................................................*\n",
      "*Br   41 :photon_n  : photon_n/i                                             *\n",
      "*Entries :    53653 : Total  Size=     215749 bytes  File Size  =       1482 *\n",
      "*Baskets :        6 : Basket Size=      32000 bytes  Compression= 129.55     *\n",
      "*............................................................................*\n",
      "*Br   42 :photon_truthMatched : vector<bool>                                 *\n",
      "*Entries :    53653 : Total  Size=     755239 bytes  File Size  =      83310 *\n",
      "*Baskets :       30 : Basket Size=      32000 bytes  Compression=   8.97     *\n",
      "*............................................................................*\n",
      "*Br   43 :photon_trigMatched : vector<bool>                                  *\n",
      "*Entries :    53653 : Total  Size=     755203 bytes  File Size  =      83370 *\n",
      "*Baskets :       30 : Basket Size=      32000 bytes  Compression=   8.97     *\n",
      "*............................................................................*\n",
      "*Br   44 :photon_pt : vector<float>                                          *\n",
      "*Entries :    53653 : Total  Size=     754879 bytes  File Size  =      83040 *\n",
      "*Baskets :       30 : Basket Size=      32000 bytes  Compression=   9.00     *\n",
      "*............................................................................*\n",
      "*Br   45 :photon_eta : vector<float>                                         *\n",
      "*Entries :    53653 : Total  Size=     754915 bytes  File Size  =      83010 *\n",
      "*Baskets :       30 : Basket Size=      32000 bytes  Compression=   9.00     *\n",
      "*............................................................................*\n",
      "*Br   46 :photon_phi : vector<float>                                         *\n",
      "*Entries :    53653 : Total  Size=     754915 bytes  File Size  =      83010 *\n",
      "*Baskets :       30 : Basket Size=      32000 bytes  Compression=   9.00     *\n",
      "*............................................................................*\n",
      "*Br   47 :photon_E  : vector<float>                                          *\n",
      "*Entries :    53653 : Total  Size=     754843 bytes  File Size  =      83130 *\n",
      "*Baskets :       30 : Basket Size=      32000 bytes  Compression=   8.99     *\n",
      "*............................................................................*\n",
      "*Br   48 :photon_isTightID : vector<bool>                                    *\n",
      "*Entries :    53653 : Total  Size=     755131 bytes  File Size  =      83190 *\n",
      "*Baskets :       30 : Basket Size=      32000 bytes  Compression=   8.98     *\n",
      "*............................................................................*\n",
      "*Br   49 :photon_ptcone30 : vector<float>                                    *\n",
      "*Entries :    53653 : Total  Size=     755095 bytes  File Size  =      83040 *\n",
      "*Baskets :       30 : Basket Size=      32000 bytes  Compression=   9.00     *\n",
      "*............................................................................*\n",
      "*Br   50 :photon_etcone20 : vector<float>                                    *\n",
      "*Entries :    53653 : Total  Size=     755095 bytes  File Size  =      83040 *\n",
      "*Baskets :       30 : Basket Size=      32000 bytes  Compression=   9.00     *\n",
      "*............................................................................*\n",
      "*Br   51 :photon_convType : vector<int>                                      *\n",
      "*Entries :    53653 : Total  Size=     755095 bytes  File Size  =      83040 *\n",
      "*Baskets :       30 : Basket Size=      32000 bytes  Compression=   9.00     *\n",
      "*............................................................................*\n",
      "*Br   52 :tau_n     : tau_n/i                                                *\n",
      "*Entries :    53653 : Total  Size=     215713 bytes  File Size  =       1464 *\n",
      "*Baskets :        6 : Basket Size=      32000 bytes  Compression= 131.13     *\n",
      "*............................................................................*\n",
      "*Br   53 :tau_pt    : vector<float>                                          *\n",
      "*Entries :    53653 : Total  Size=     754771 bytes  File Size  =      82980 *\n",
      "*Baskets :       30 : Basket Size=      32000 bytes  Compression=   9.01     *\n",
      "*............................................................................*\n",
      "*Br   54 :tau_eta   : vector<float>                                          *\n",
      "*Entries :    53653 : Total  Size=     754807 bytes  File Size  =      83310 *\n",
      "*Baskets :       30 : Basket Size=      32000 bytes  Compression=   8.97     *\n",
      "*............................................................................*\n",
      "*Br   55 :tau_phi   : vector<float>                                          *\n",
      "*Entries :    53653 : Total  Size=     754807 bytes  File Size  =      83310 *\n",
      "*Baskets :       30 : Basket Size=      32000 bytes  Compression=   8.97     *\n",
      "*............................................................................*\n",
      "*Br   56 :tau_E     : vector<float>                                          *\n",
      "*Entries :    53653 : Total  Size=     754735 bytes  File Size  =      82770 *\n",
      "*Baskets :       30 : Basket Size=      32000 bytes  Compression=   9.03     *\n",
      "*............................................................................*\n",
      "*Br   57 :tau_isTightID : vector<bool>                                       *\n",
      "*Entries :    53653 : Total  Size=     755023 bytes  File Size  =      82950 *\n",
      "*Baskets :       30 : Basket Size=      32000 bytes  Compression=   9.01     *\n",
      "*............................................................................*\n",
      "*Br   58 :tau_truthMatched : vector<bool>                                    *\n",
      "*Entries :    53653 : Total  Size=     755131 bytes  File Size  =      83190 *\n",
      "*Baskets :       30 : Basket Size=      32000 bytes  Compression=   8.98     *\n",
      "*............................................................................*\n",
      "*Br   59 :tau_trigMatched : vector<bool>                                     *\n",
      "*Entries :    53653 : Total  Size=     755095 bytes  File Size  =      83040 *\n",
      "*Baskets :       30 : Basket Size=      32000 bytes  Compression=   9.00     *\n",
      "*............................................................................*\n",
      "*Br   60 :tau_nTracks : vector<int>                                          *\n",
      "*Entries :    53653 : Total  Size=     754951 bytes  File Size  =      83070 *\n",
      "*Baskets :       30 : Basket Size=      32000 bytes  Compression=   9.00     *\n",
      "*............................................................................*\n",
      "*Br   61 :tau_BDTid : vector<float>                                          *\n",
      "*Entries :    53653 : Total  Size=     754879 bytes  File Size  =      83040 *\n",
      "*Baskets :       30 : Basket Size=      32000 bytes  Compression=   9.00     *\n",
      "*............................................................................*\n",
      "*Br   62 :ditau_m   : ditau_m/F                                              *\n",
      "*Entries :    53653 : Total  Size=     215737 bytes  File Size  =       1476 *\n",
      "*Baskets :        6 : Basket Size=      32000 bytes  Compression= 130.07     *\n",
      "*............................................................................*\n",
      "*Br   63 :lep_pt_syst : vector<float>                                        *\n",
      "*Entries :    53653 : Total  Size=    1126817 bytes  File Size  =     546898 *\n",
      "*Baskets :       41 : Basket Size=      32000 bytes  Compression=   2.01     *\n",
      "*............................................................................*\n",
      "*Br   64 :met_et_syst : met_et_syst/F                                        *\n",
      "*Entries :    53653 : Total  Size=     215785 bytes  File Size  =     171959 *\n",
      "*Baskets :        6 : Basket Size=      32000 bytes  Compression=   1.12     *\n",
      "*............................................................................*\n",
      "*Br   65 :jet_pt_syst : vector<float>                                        *\n",
      "*Entries :    53653 : Total  Size=    1292157 bytes  File Size  =     741613 *\n",
      "*Baskets :       47 : Basket Size=      32000 bytes  Compression=   1.74     *\n",
      "*............................................................................*\n",
      "*Br   66 :photon_pt_syst : vector<float>                                     *\n",
      "*Entries :    53653 : Total  Size=     755059 bytes  File Size  =      83190 *\n",
      "*Baskets :       30 : Basket Size=      32000 bytes  Compression=   8.98     *\n",
      "*............................................................................*\n",
      "*Br   67 :tau_pt_syst : vector<float>                                        *\n",
      "*Entries :    53653 : Total  Size=     754951 bytes  File Size  =      83070 *\n",
      "*Baskets :       30 : Basket Size=      32000 bytes  Compression=   9.00     *\n",
      "*............................................................................*\n",
      "*Br   68 :XSection  : XSection/F                                             *\n",
      "*Entries :    53653 : Total  Size=     215749 bytes  File Size  =       1620 *\n",
      "*Baskets :        6 : Basket Size=      32000 bytes  Compression= 118.51     *\n",
      "*............................................................................*\n",
      "*Br   69 :SumWeights : SumWeights/F                                          *\n",
      "*Entries :    53653 : Total  Size=     215773 bytes  File Size  =       1638 *\n",
      "*Baskets :        6 : Basket Size=      32000 bytes  Compression= 117.21     *\n",
      "*............................................................................*\n",
      "*Br   70 :largeRjet_n : largeRjet_n/i                                        *\n",
      "*Entries :    53653 : Total  Size=     215785 bytes  File Size  =      20697 *\n",
      "*Baskets :        6 : Basket Size=      32000 bytes  Compression=   9.28     *\n",
      "*............................................................................*\n",
      "*Br   71 :largeRjet_pt : vector<float>                                       *\n",
      "*Entries :    53653 : Total  Size=    1069197 bytes  File Size  =     477054 *\n",
      "*Baskets :       40 : Basket Size=      32000 bytes  Compression=   2.23     *\n",
      "*............................................................................*\n",
      "*Br   72 :largeRjet_eta : vector<float>                                      *\n",
      "*Entries :    53653 : Total  Size=    1069243 bytes  File Size  =     508977 *\n",
      "*Baskets :       40 : Basket Size=      32000 bytes  Compression=   2.09     *\n",
      "*............................................................................*\n",
      "*Br   73 :largeRjet_phi : vector<float>                                      *\n",
      "*Entries :    53653 : Total  Size=    1069243 bytes  File Size  =     512288 *\n",
      "*Baskets :       40 : Basket Size=      32000 bytes  Compression=   2.08     *\n",
      "*............................................................................*\n",
      "*Br   74 :largeRjet_E : vector<float>                                        *\n",
      "*Entries :    53653 : Total  Size=    1069151 bytes  File Size  =     493882 *\n",
      "*Baskets :       40 : Basket Size=      32000 bytes  Compression=   2.16     *\n",
      "*............................................................................*\n",
      "*Br   75 :largeRjet_m : vector<float>                                        *\n",
      "*Entries :    53653 : Total  Size=    1069151 bytes  File Size  =     499846 *\n",
      "*Baskets :       40 : Basket Size=      32000 bytes  Compression=   2.13     *\n",
      "*............................................................................*\n",
      "*Br   76 :largeRjet_truthMatched : vector<float>                             *\n",
      "*Entries :    53653 : Total  Size=    1069657 bytes  File Size  =     185952 *\n",
      "*Baskets :       40 : Basket Size=      32000 bytes  Compression=   5.73     *\n",
      "*............................................................................*\n",
      "*Br   77 :largeRjet_D2 : vector<float>                                       *\n",
      "*Entries :    53653 : Total  Size=    1069197 bytes  File Size  =     486925 *\n",
      "*Baskets :       40 : Basket Size=      32000 bytes  Compression=   2.19     *\n",
      "*............................................................................*\n",
      "*Br   78 :largeRjet_tau32 : vector<float>                                    *\n",
      "*Entries :    53653 : Total  Size=    1069335 bytes  File Size  =     441961 *\n",
      "*Baskets :       40 : Basket Size=      32000 bytes  Compression=   2.41     *\n",
      "*............................................................................*\n",
      "*Br   79 :largeRjet_pt_syst : vector<float>                                  *\n",
      "*Entries :    53653 : Total  Size=    1069427 bytes  File Size  =     468636 *\n",
      "*Baskets :       40 : Basket Size=      32000 bytes  Compression=   2.27     *\n",
      "*............................................................................*\n",
      "*Br   80 :tau_charge : vector<int>                                           *\n",
      "*Entries :    53653 : Total  Size=     754915 bytes  File Size  =      83010 *\n",
      "*Baskets :       30 : Basket Size=      32000 bytes  Compression=   9.00     *\n",
      "*............................................................................*\n"
     ]
    }
   ],
   "source": [
    "tree.Print()"
   ]
  },
  {
   "cell_type": "markdown",
   "id": "3b9f89de",
   "metadata": {},
   "source": [
    "Now, we define a histogram that will later be placed on this canvas. Its name is variable, the header of the histogram is Mass of the Z boson, the x axis is named mass[GeV] and the y axis is name events, The three following arguments indicate that this histogram contains 30 bins which have a range from 40 to 140."
   ]
  },
  {
   "cell_type": "code",
   "execution_count": 8,
   "id": "a37ed34d",
   "metadata": {},
   "outputs": [],
   "source": [
    "hist = ROOT.TH1F(\"variable\",\"Mass of the Z boson; mass [GeV]; events\",30,40,140)"
   ]
  },
  {
   "cell_type": "markdown",
   "id": "dbbcfbde",
   "metadata": {},
   "source": [
    "## Calculate the invariant mass!"
   ]
  },
  {
   "cell_type": "markdown",
   "id": "4a36bca5",
   "metadata": {},
   "source": [
    "The **selections** we should require in each event to ensure that the final state contains objects potentially comming from the Z boson are the followings:\n",
    "1. Exactly two leptons\n",
    "2. The two leptons to have opposite charge (the one positive and other negative)\n",
    "3. The two leptons to be from the same family (same flavor). E.g. two electrons or two muons\n",
    "\n",
    "After applying the selections above, the **calculation** of the the invariant mass is doen following these steps:\n",
    "1. If the energy of the 2 leptons are lep_E[0] and lep_E[1], write the sum of energy, sumE\n",
    "2. Write the sum of x-momentum, sumpx\n",
    "3. Do the same for y and z momenta (sumpy and sumpz)\n",
    "4. Now you have the x,y,z components sumpx,sumpy and sumpz. The vector **sump** = (sumpx,sumpy and sumpz). Write the magnitute of total momentum, sump.\n",
    "\n",
    "The invariant mass, M, of a parent particle decaying to two daughter particles is related to properties of the daughter particles by the formula:\n",
    "\n",
    "$$M^2 = E^2 - p^2$$\n",
    "\n",
    "where E is the total energy of the daughter particles, and p the magnitute of the vector sum of the momenta of the daughter particles. This is written assuming c=1 (natural units)"
   ]
  },
  {
   "cell_type": "markdown",
   "id": "e2ff395d",
   "metadata": {},
   "source": [
    "Time to fill our histogram defined previously, following the instructions above. At first, we define the aforementioned variables and then we loop over the data:"
   ]
  },
  {
   "cell_type": "code",
   "execution_count": 9,
   "id": "76b261fe",
   "metadata": {},
   "outputs": [],
   "source": [
    "## !!! Adjust/Modify/Fill the variables & values on the functions !!!\n",
    "\n",
    "def has_two_leptons(event):\n",
    "    return event.lep_n == \n",
    "\n",
    "def has_opposite_charge_leptons(event):\n",
    "    return event.lep_charge[0] #Fill appropriately the return value (Hint: check printed variables from tree.Print() above)\n",
    "\n",
    "def has_same_family_leptons(event):\n",
    "    return #Fill appropriately the return value \n",
    "\n",
    "def compute_mll(event):\n",
    "    # 0th lepton is [0], next lepton is [1] etc\n",
    "    # get the energy of 0th lepton by lep_E[0]\n",
    "    \n",
    "    #sumE = sum of energy\n",
    "    sumE = \n",
    "\n",
    "    px_leading = event.lep_pt[0]*TMath.Cos(event.lep_phi[0]) # x-momentum of 0th lepton\n",
    "    px_subleading = event.lep_pt[1]*TMath.Cos(event.lep_phi[1]) # x-momentum of 1st lepton\n",
    "\n",
    "    py_leading = event.lep_pt[0]*TMath.Sin(event.lep_phi[0]) # y-momentum of 0th lepton\n",
    "    py_subleading = event.lep_pt[1]*TMath.Sin(event.lep_phi[1]) # y-momentum of 1st lepton\n",
    "\n",
    "    pz_leading = event.lep_pt[0]*TMath.SinH(event.lep_eta[0]) # z-momentum of 0th lepton\n",
    "    pz_subleading = event.lep_pt[1]*TMath.SinH(event.lep_eta[1]) # z-momentum of 1st lepton  \n",
    "\n",
    "    # sumpx = sum of x-momenta\n",
    "    sumpx =\n",
    "    \n",
    "    # sumpy = sum of y-momenta\n",
    "    sumpy = \n",
    "    \n",
    "    # sumpz = sum of z-momenta\n",
    "    sumpz = \n",
    "    \n",
    "    # sump = magnitude of total momentum vector. Note that this is a vector! \n",
    "    sump = # Hint: You can use the TMath.Sqrt() and TMath.Power(x,y) functions - The latter function returns x^y\n",
    "    \n",
    "    # Mll = invariant mass from M^2 = E^2 - p^2. \n",
    "    Mll = #N.B.:The result will be on MeV - Divide by 1000 to go from MeV to GeV\n",
    "\n",
    "    return Mll\n",
    "\n",
    "# Main code\n",
    "for event in tree:\n",
    "    if has_two_leptons(event) and has_opposite_charge_leptons(event) and has_same_family_leptons(event):\n",
    "        Mll = compute_mll(event)\n",
    "        hist.Fill(Mll)"
   ]
  },
  {
   "cell_type": "markdown",
   "id": "86d9621d",
   "metadata": {},
   "source": [
    "After filling the histogram we want to see the results of the analysis. First, we draw the histogram on the canvas and then the canvas on which the histogram lies."
   ]
  },
  {
   "cell_type": "code",
   "execution_count": 10,
   "id": "5f211b1f",
   "metadata": {},
   "outputs": [],
   "source": [
    "hist.Draw()\n",
    "hist.SetFillColor(8)  # See more color-codes here: https://root.cern.ch/doc/master/classTAttFill.html"
   ]
  },
  {
   "cell_type": "code",
   "execution_count": 11,
   "id": "ed403344",
   "metadata": {},
   "outputs": [
    {
     "data": {
      "text/html": [
       "\n",
       "\n",
       "<div id=\"root_plot_1682410590370\"\n",
       "     style=\"width: 796px; height: 572px\">\n",
       "</div>\n",
       "<script>\n",
       "\n",
       "function display_root_plot_1682410590370(Core) {\n",
       "   let obj = Core.parse({\"_typename\":\"TCanvas\",\"fUniqueID\":0,\"fBits\":3342344,\"fLineColor\":1,\"fLineStyle\":1,\"fLineWidth\":1,\"fFillColor\":0,\"fFillStyle\":1001,\"fLeftMargin\":0.1,\"fRightMargin\":0.1,\"fBottomMargin\":0.1,\"fTopMargin\":0.1,\"fXfile\":2,\"fYfile\":2,\"fAfile\":1,\"fXstat\":0.99,\"fYstat\":0.99,\"fAstat\":2,\"fFrameFillColor\":0,\"fFrameLineColor\":1,\"fFrameFillStyle\":1001,\"fFrameLineStyle\":1,\"fFrameLineWidth\":1,\"fFrameBorderSize\":1,\"fFrameBorderMode\":0,\"fX1\":27.4999990686774,\"fY1\":-1725.28137854348,\"fX2\":152.500000931323,\"fY2\":15527.5313785435,\"fXtoAbsPixelk\":-175.119941459846,\"fXtoPixelk\":-175.119941459846,\"fXtoPixel\":6.3679999051094,\"fYtoAbsPixelk\":514.800046590614,\"fYtoPixelk\":514.800046590614,\"fYtoPixel\":-0.0331540142499396,\"fUtoAbsPixelk\":5e-5,\"fUtoPixelk\":5e-5,\"fUtoPixel\":796,\"fVtoAbsPixelk\":572.00005,\"fVtoPixelk\":572,\"fVtoPixel\":-572,\"fAbsPixeltoXk\":27.4999990686774,\"fPixeltoXk\":27.4999990686774,\"fPixeltoX\":0.157035178219404,\"fAbsPixeltoYk\":15527.5313785435,\"fPixeltoYk\":-1725.28137854348,\"fPixeltoY\":-30.1622600648373,\"fXlowNDC\":0,\"fYlowNDC\":0,\"fXUpNDC\":1,\"fYUpNDC\":1,\"fWNDC\":1,\"fHNDC\":1,\"fAbsXlowNDC\":0,\"fAbsYlowNDC\":0,\"fAbsWNDC\":1,\"fAbsHNDC\":1,\"fUxmin\":40,\"fUymin\":0,\"fUxmax\":140,\"fUymax\":13802.25,\"fTheta\":30,\"fPhi\":30,\"fAspectRatio\":0,\"fNumber\":0,\"fTickx\":0,\"fTicky\":0,\"fLogx\":0,\"fLogy\":0,\"fLogz\":0,\"fPadPaint\":0,\"fCrosshair\":0,\"fCrosshairPos\":0,\"fBorderSize\":2,\"fBorderMode\":0,\"fModified\":false,\"fGridx\":false,\"fGridy\":false,\"fAbsCoord\":false,\"fEditable\":true,\"fFixedAspectRatio\":false,\"fPrimitives\":{\"_typename\":\"TList\",\"name\":\"TList\",\"arr\":[{\"_typename\":\"TFrame\",\"fUniqueID\":0,\"fBits\":8,\"fLineColor\":1,\"fLineStyle\":1,\"fLineWidth\":1,\"fFillColor\":0,\"fFillStyle\":1001,\"fX1\":40,\"fY1\":0,\"fX2\":140,\"fY2\":13802.25,\"fBorderSize\":1,\"fBorderMode\":0},{\"_typename\":\"TH1F\",\"fUniqueID\":0,\"fBits\":8,\"fName\":\"variable\",\"fTitle\":\"Mass of the Z boson\",\"fLineColor\":602,\"fLineStyle\":1,\"fLineWidth\":1,\"fFillColor\":8,\"fFillStyle\":1001,\"fMarkerColor\":1,\"fMarkerStyle\":1,\"fMarkerSize\":1,\"fNcells\":32,\"fXaxis\":{\"_typename\":\"TAxis\",\"fUniqueID\":0,\"fBits\":0,\"fName\":\"xaxis\",\"fTitle\":\" mass [GeV]\",\"fNdivisions\":510,\"fAxisColor\":1,\"fLabelColor\":1,\"fLabelFont\":42,\"fLabelOffset\":0.005,\"fLabelSize\":0.035,\"fTickLength\":0.03,\"fTitleOffset\":1,\"fTitleSize\":0.035,\"fTitleColor\":1,\"fTitleFont\":42,\"fNbins\":30,\"fXmin\":40,\"fXmax\":140,\"fXbins\":[],\"fFirst\":0,\"fLast\":0,\"fBits2\":0,\"fTimeDisplay\":false,\"fTimeFormat\":\"\",\"fLabels\":null,\"fModLabs\":null},\"fYaxis\":{\"_typename\":\"TAxis\",\"fUniqueID\":0,\"fBits\":0,\"fName\":\"yaxis\",\"fTitle\":\" events\",\"fNdivisions\":510,\"fAxisColor\":1,\"fLabelColor\":1,\"fLabelFont\":42,\"fLabelOffset\":0.005,\"fLabelSize\":0.035,\"fTickLength\":0.03,\"fTitleOffset\":0,\"fTitleSize\":0.035,\"fTitleColor\":1,\"fTitleFont\":42,\"fNbins\":1,\"fXmin\":0,\"fXmax\":1,\"fXbins\":[],\"fFirst\":0,\"fLast\":0,\"fBits2\":0,\"fTimeDisplay\":false,\"fTimeFormat\":\"\",\"fLabels\":null,\"fModLabs\":null},\"fZaxis\":{\"_typename\":\"TAxis\",\"fUniqueID\":0,\"fBits\":0,\"fName\":\"zaxis\",\"fTitle\":\"\",\"fNdivisions\":510,\"fAxisColor\":1,\"fLabelColor\":1,\"fLabelFont\":42,\"fLabelOffset\":0.005,\"fLabelSize\":0.035,\"fTickLength\":0.03,\"fTitleOffset\":1,\"fTitleSize\":0.035,\"fTitleColor\":1,\"fTitleFont\":42,\"fNbins\":1,\"fXmin\":0,\"fXmax\":1,\"fXbins\":[],\"fFirst\":0,\"fLast\":0,\"fBits2\":0,\"fTimeDisplay\":false,\"fTimeFormat\":\"\",\"fLabels\":null,\"fModLabs\":null},\"fBarOffset\":0,\"fBarWidth\":1000,\"fEntries\":37212,\"fTsumw\":33267,\"fTsumw2\":33267,\"fTsumwx\":3025339.30057182,\"fTsumwx2\":277202511.117848,\"fMaximum\":-1111,\"fMinimum\":-1111,\"fNormFactor\":0,\"fContour\":[],\"fSumw2\":[],\"fOption\":\"\",\"fFunctions\":{\"_typename\":\"TList\",\"name\":\"TList\",\"arr\":[{\"_typename\":\"TPaveStats\",\"fUniqueID\":0,\"fBits\":9,\"fLineColor\":1,\"fLineStyle\":1,\"fLineWidth\":1,\"fFillColor\":0,\"fFillStyle\":1001,\"fX1\":125.000002533197,\"fY1\":11645.6486110337,\"fX2\":150.000003278256,\"fY2\":14406.0985904667,\"fX1NDC\":0.780000016093254,\"fY1NDC\":0.775000005960464,\"fX2NDC\":0.980000019073486,\"fY2NDC\":0.935000002384186,\"fBorderSize\":1,\"fInit\":1,\"fShadowColor\":1,\"fCornerRadius\":0,\"fOption\":\"brNDC\",\"fName\":\"stats\",\"fTextAngle\":0,\"fTextSize\":0,\"fTextAlign\":12,\"fTextColor\":1,\"fTextFont\":42,\"fLabel\":\"\",\"fLongest\":18,\"fMargin\":0.05,\"fLines\":{\"_typename\":\"TList\",\"name\":\"TList\",\"arr\":[{\"_typename\":\"TLatex\",\"fUniqueID\":0,\"fBits\":0,\"fName\":\"\",\"fTitle\":\"variable\",\"fTextAngle\":0,\"fTextSize\":0.0368,\"fTextAlign\":0,\"fTextColor\":0,\"fTextFont\":0,\"fX\":0,\"fY\":0,\"fLineColor\":1,\"fLineStyle\":1,\"fLineWidth\":2,\"fLimitFactorSize\":3,\"fOriginSize\":0.0368000008165836},{\"_typename\":\"TLatex\",\"fUniqueID\":0,\"fBits\":0,\"fName\":\"\",\"fTitle\":\"Entries = 37212  \",\"fTextAngle\":0,\"fTextSize\":0,\"fTextAlign\":0,\"fTextColor\":0,\"fTextFont\":0,\"fX\":0,\"fY\":0,\"fLineColor\":1,\"fLineStyle\":1,\"fLineWidth\":2,\"fLimitFactorSize\":3,\"fOriginSize\":0.04},{\"_typename\":\"TLatex\",\"fUniqueID\":0,\"fBits\":0,\"fName\":\"\",\"fTitle\":\"Mean  =  90.94\",\"fTextAngle\":0,\"fTextSize\":0,\"fTextAlign\":0,\"fTextColor\":0,\"fTextFont\":0,\"fX\":0,\"fY\":0,\"fLineColor\":1,\"fLineStyle\":1,\"fLineWidth\":2,\"fLimitFactorSize\":3,\"fOriginSize\":0.04},{\"_typename\":\"TLatex\",\"fUniqueID\":0,\"fBits\":0,\"fName\":\"\",\"fTitle\":\"Std Dev   =  7.897\",\"fTextAngle\":0,\"fTextSize\":0,\"fTextAlign\":0,\"fTextColor\":0,\"fTextFont\":0,\"fX\":0,\"fY\":0,\"fLineColor\":1,\"fLineStyle\":1,\"fLineWidth\":2,\"fLimitFactorSize\":3,\"fOriginSize\":0.04}],\"opt\":[\"\",\"\",\"\",\"\"]},\"fOptFit\":0,\"fOptStat\":1111,\"fFitFormat\":\"5.4g\",\"fStatFormat\":\"6.4g\",\"fParent\":{\"$ref\":3}}],\"opt\":[\"brNDC\"]},\"fBufferSize\":0,\"fBuffer\":[],\"fBinStatErrOpt\":0,\"fStatOverflows\":2,\"fArray\":{\"$arr\":\"Float32\",\"len\":32,\"v\":[52,12,12,18,15,14,42,94,127,151,201,285,481,936,2424,8611,13145,3699,1091,515,281,241,156,133,116,105,78,90,70,62,62,3893]}},{\"_typename\":\"TPaveText\",\"fUniqueID\":0,\"fBits\":9,\"fLineColor\":1,\"fLineStyle\":1,\"fLineWidth\":1,\"fFillColor\":0,\"fFillStyle\":0,\"fX1\":66.8435926197668,\"fY1\":14492.3626812463,\"fX2\":113.156407380233,\"fY2\":15441.2673970259,\"fX1NDC\":0.314748743718593,\"fY1NDC\":0.940000003948808,\"fX2NDC\":0.685251256281407,\"fY2NDC\":0.995000004768372,\"fBorderSize\":0,\"fInit\":1,\"fShadowColor\":1,\"fCornerRadius\":0,\"fOption\":\"blNDC\",\"fName\":\"title\",\"fTextAngle\":0,\"fTextSize\":0,\"fTextAlign\":22,\"fTextColor\":1,\"fTextFont\":42,\"fLabel\":\"\",\"fLongest\":19,\"fMargin\":0.05,\"fLines\":{\"_typename\":\"TList\",\"name\":\"TList\",\"arr\":[{\"_typename\":\"TLatex\",\"fUniqueID\":0,\"fBits\":0,\"fName\":\"\",\"fTitle\":\"Mass of the Z boson\",\"fTextAngle\":0,\"fTextSize\":0,\"fTextAlign\":0,\"fTextColor\":0,\"fTextFont\":0,\"fX\":0,\"fY\":0,\"fLineColor\":1,\"fLineStyle\":1,\"fLineWidth\":2,\"fLimitFactorSize\":3,\"fOriginSize\":0.0467500016093254}],\"opt\":[\"\"]}},{\"_typename\":\"TStyle\",\"fUniqueID\":0,\"fBits\":0,\"fName\":\"Modern\",\"fTitle\":\"Modern Style\",\"fLineColor\":1,\"fLineStyle\":1,\"fLineWidth\":1,\"fFillColor\":19,\"fFillStyle\":1001,\"fMarkerColor\":1,\"fMarkerStyle\":1,\"fMarkerSize\":1,\"fTextAngle\":0,\"fTextSize\":0.05,\"fTextAlign\":11,\"fTextColor\":1,\"fTextFont\":62,\"fXaxis\":{\"_typename\":\"TAttAxis\",\"fNdivisions\":510,\"fAxisColor\":1,\"fLabelColor\":1,\"fLabelFont\":42,\"fLabelOffset\":0.005,\"fLabelSize\":0.035,\"fTickLength\":0.03,\"fTitleOffset\":1,\"fTitleSize\":0.035,\"fTitleColor\":1,\"fTitleFont\":42},\"fYaxis\":{\"_typename\":\"TAttAxis\",\"fNdivisions\":510,\"fAxisColor\":1,\"fLabelColor\":1,\"fLabelFont\":42,\"fLabelOffset\":0.005,\"fLabelSize\":0.035,\"fTickLength\":0.03,\"fTitleOffset\":0,\"fTitleSize\":0.035,\"fTitleColor\":1,\"fTitleFont\":42},\"fZaxis\":{\"_typename\":\"TAttAxis\",\"fNdivisions\":510,\"fAxisColor\":1,\"fLabelColor\":1,\"fLabelFont\":42,\"fLabelOffset\":0.005,\"fLabelSize\":0.035,\"fTickLength\":0.03,\"fTitleOffset\":1,\"fTitleSize\":0.035,\"fTitleColor\":1,\"fTitleFont\":42},\"fBarWidth\":1,\"fBarOffset\":0,\"fColorModelPS\":0,\"fDrawBorder\":0,\"fOptLogx\":0,\"fOptLogy\":0,\"fOptLogz\":0,\"fOptDate\":0,\"fOptStat\":1111,\"fOptTitle\":1,\"fOptFile\":0,\"fOptFit\":0,\"fShowEventStatus\":0,\"fShowEditor\":0,\"fShowToolBar\":0,\"fNumberContours\":20,\"fAttDate\":{\"_typename\":\"TAttText\",\"fTextAngle\":0,\"fTextSize\":0.025,\"fTextAlign\":11,\"fTextColor\":1,\"fTextFont\":62},\"fDateX\":0.01,\"fDateY\":0.01,\"fEndErrorSize\":2,\"fErrorX\":0.5,\"fFuncColor\":2,\"fFuncStyle\":1,\"fFuncWidth\":2,\"fGridColor\":0,\"fGridStyle\":3,\"fGridWidth\":1,\"fLegendBorderSize\":1,\"fLegendFillColor\":0,\"fLegendFont\":42,\"fLegendTextSize\":0,\"fHatchesLineWidth\":1,\"fHatchesSpacing\":1,\"fFrameFillColor\":0,\"fFrameLineColor\":1,\"fFrameFillStyle\":1001,\"fFrameLineStyle\":1,\"fFrameLineWidth\":1,\"fFrameBorderSize\":1,\"fFrameBorderMode\":0,\"fHistFillColor\":0,\"fHistLineColor\":602,\"fHistFillStyle\":1001,\"fHistLineStyle\":1,\"fHistLineWidth\":1,\"fHistMinimumZero\":false,\"fHistTopMargin\":0.05,\"fCanvasPreferGL\":false,\"fCanvasColor\":0,\"fCanvasBorderSize\":2,\"fCanvasBorderMode\":0,\"fCanvasDefH\":500,\"fCanvasDefW\":700,\"fCanvasDefX\":10,\"fCanvasDefY\":10,\"fPadColor\":0,\"fPadBorderSize\":2,\"fPadBorderMode\":0,\"fPadBottomMargin\":0.1,\"fPadTopMargin\":0.1,\"fPadLeftMargin\":0.1,\"fPadRightMargin\":0.1,\"fPadGridX\":false,\"fPadGridY\":false,\"fPadTickX\":0,\"fPadTickY\":0,\"fPaperSizeX\":20,\"fPaperSizeY\":26,\"fScreenFactor\":1,\"fStatColor\":0,\"fStatTextColor\":1,\"fStatBorderSize\":1,\"fStatFont\":42,\"fStatFontSize\":0,\"fStatStyle\":1001,\"fStatFormat\":\"6.4g\",\"fStatX\":0.98,\"fStatY\":0.935,\"fStatW\":0.2,\"fStatH\":0.16,\"fStripDecimals\":true,\"fTitleAlign\":23,\"fTitleColor\":0,\"fTitleTextColor\":1,\"fTitleBorderSize\":0,\"fTitleFont\":42,\"fTitleFontSize\":0.05,\"fTitleStyle\":0,\"fTitleX\":0.5,\"fTitleY\":0.995,\"fTitleW\":0,\"fTitleH\":0,\"fLegoInnerR\":0.5,\"fLineStyles\":[\"\",\"  \",\" 12 12\",\" 4 8\",\" 12 16 4 16\",\" 20 12 4 12\",\" 20 12 4 12 4 12 4 12\",\" 20 20\",\" 20 12 4 12 4 12\",\" 80 20\",\" 80 40 4 40\",\"  \",\"  \",\"  \",\"  \",\"  \",\"  \",\"  \",\"  \",\"  \",\"  \",\"  \",\"  \",\"  \",\"  \",\"  \",\"  \",\"  \",\"  \",\"  \"],\"fHeaderPS\":\"\",\"fTitlePS\":\"\",\"fFitFormat\":\"5.4g\",\"fPaintTextFormat\":\"g\",\"fLineScalePS\":3,\"fJoinLinePS\":0,\"fCapLinePS\":0,\"fTimeOffset\":788918400,\"fImageScaling\":1}],\"opt\":[\"\",\"\",\"blNDC\",\"\"]},\"fExecs\":null,\"fName\":\"Canvas\",\"fTitle\":\"c\",\"fNumPaletteColor\":0,\"fNextPaletteColor\":0,\"fDISPLAY\":\"$DISPLAY\",\"fDoubleBuffer\":0,\"fRetained\":true,\"fXsizeUser\":0,\"fYsizeUser\":0,\"fXsizeReal\":20,\"fYsizeReal\":15,\"fWindowTopX\":0,\"fWindowTopY\":0,\"fWindowWidth\":0,\"fWindowHeight\":0,\"fCw\":796,\"fCh\":572,\"fCatt\":{\"_typename\":\"TAttCanvas\",\"fXBetween\":2,\"fYBetween\":2,\"fTitleFromTop\":1.2,\"fXdate\":0.2,\"fYdate\":0.3,\"fAdate\":1},\"kMoveOpaque\":true,\"kResizeOpaque\":true,\"fHighLightColor\":2,\"fBatch\":true,\"kShowEventStatus\":false,\"kAutoExec\":true,\"kMenuBar\":true});\n",
       "   Core.settings.HandleKeys = false;\n",
       "   Core.draw(\"root_plot_1682410590370\", obj, \"\");\n",
       "}\n",
       "\n",
       "function script_load_root_plot_1682410590370(src, on_error) {\n",
       "    let script = document.createElement('script');\n",
       "    script.src = src;\n",
       "    script.onload = function() { display_root_plot_1682410590370(JSROOT); };\n",
       "    script.onerror = function() { script.remove(); on_error(); };\n",
       "    document.head.appendChild(script);\n",
       "}\n",
       "\n",
       "if (typeof requirejs !== 'undefined') {\n",
       "\n",
       "    // We are in jupyter notebooks, use require.js which should be configured already\n",
       "    requirejs.config({\n",
       "       paths: { 'JSRootCore' : [ 'scripts/JSRoot.core', 'https://root.cern/js/6.1.1/scripts/JSRoot.core.min', 'https://jsroot.gsi.de/6.1.1/scripts/JSRoot.core.min' ] }\n",
       "    })(['JSRootCore'],  function(Core) {\n",
       "       display_root_plot_1682410590370(Core);\n",
       "    });\n",
       "\n",
       "} else if (typeof JSROOT !== 'undefined') {\n",
       "\n",
       "   // JSROOT already loaded, just use it\n",
       "   display_root_plot_1682410590370(JSROOT);\n",
       "\n",
       "} else {\n",
       "\n",
       "    // We are in jupyterlab without require.js, directly loading jsroot\n",
       "    // Jupyterlab might be installed in a different base_url so we need to know it.\n",
       "    try {\n",
       "        var base_url = JSON.parse(document.getElementById('jupyter-config-data').innerHTML).baseUrl;\n",
       "    } catch(_) {\n",
       "        var base_url = '/';\n",
       "    }\n",
       "\n",
       "    // Try loading a local version of requirejs and fallback to cdn if not possible.\n",
       "    script_load_root_plot_1682410590370(base_url + 'static/scripts/JSRoot.core.js', function(){\n",
       "        console.error('Fail to load JSROOT locally, please check your jupyter_notebook_config.py file');\n",
       "        script_load_root_plot_1682410590370('https://root.cern/js/6.1.1/scripts/JSRoot.core.min.js', function(){\n",
       "            document.getElementById(\"root_plot_1682410590370\").innerHTML = \"Failed to load JSROOT\";\n",
       "        });\n",
       "    });\n",
       "}\n",
       "\n",
       "</script>\n"
      ],
      "text/plain": [
       "<IPython.core.display.HTML object>"
      ]
     },
     "metadata": {},
     "output_type": "display_data"
    }
   ],
   "source": [
    "canvas.Draw()"
   ]
  },
  {
   "cell_type": "markdown",
   "id": "0e0bc346",
   "metadata": {},
   "source": [
    "## Fit the histogram"
   ]
  },
  {
   "cell_type": "markdown",
   "id": "11701e57",
   "metadata": {},
   "source": [
    "Now try to fit the mass resonance of the W boson using the \"Fit\" procedure from ROOT. For this we will use the **Breit-Wigner (BW)** Function. The BW function is a probability density function that describes the probability of a particle with a certain mass and width decaying into other particles."
   ]
  },
  {
   "cell_type": "code",
   "execution_count": 12,
   "id": "d37f92eb",
   "metadata": {
    "scrolled": false
   },
   "outputs": [
    {
     "name": "stdout",
     "output_type": "stream",
     "text": [
      "Normalization: 79172.85702562159\n",
      "Mass: 90.49205486875955\n",
      "Width: 4.281428138367358\n",
      " FCN=154.906 FROM MIGRAD    STATUS=CONVERGED     152 CALLS         153 TOTAL\n",
      "                     EDM=3.1888e-08    STRATEGY= 1      ERROR MATRIX ACCURATE \n",
      "  EXT PARAMETER                                   STEP         FIRST   \n",
      "  NO.   NAME      VALUE            ERROR          SIZE      DERIVATIVE \n",
      "   1  p0           7.91729e+04   8.65765e+02   2.66852e+00   3.21149e-07\n",
      "   2  p1           9.04921e+01   1.61919e-02   8.98511e-05   5.36426e-03\n",
      "   3  p2           4.28143e+00   4.36422e-02   1.28819e-04  -1.08564e-02\n"
     ]
    }
   ],
   "source": [
    "# Define Breit-Wigner function\n",
    "fBW = ROOT.TF1(\"fBW\", \"[0]/((x-[1])*(x-[1])+([2]*[2])/4)\", 60, 120)\n",
    "\n",
    "# Set initial parameter values\n",
    "fBW.SetParameter(0, hist.GetMaximum()) # Overall normalization\n",
    "fBW.SetParameter(1, 91.2) # Mass of the Z boson\n",
    "fBW.SetParameter(2, 2.5)  # Width of the Z boson resonance\n",
    "\n",
    "# Fit histogram with Breit-Wigner function\n",
    "fit_result = hist.Fit(\"fBW\",\"RS\") # R: Range of the fit taken from the definition of the fBW function. S: Sum (least-squares) method to be used for the fit.\n",
    "\n",
    "# Print the fit parameters\n",
    "print(\"Normalization: {}\".format(fBW.GetParameter(0)))\n",
    "print(\"Mass: {}\".format(fBW.GetParameter(1)))\n",
    "print(\"Width: {}\".format(fBW.GetParameter(2)))"
   ]
  },
  {
   "cell_type": "code",
   "execution_count": 13,
   "id": "cd447220",
   "metadata": {},
   "outputs": [],
   "source": [
    "fBW.Draw(\"sames\")"
   ]
  },
  {
   "cell_type": "code",
   "execution_count": 14,
   "id": "f2fc6a32",
   "metadata": {
    "scrolled": false
   },
   "outputs": [
    {
     "data": {
      "text/html": [
       "\n",
       "\n",
       "<div id=\"root_plot_1682410590891\"\n",
       "     style=\"width: 796px; height: 572px\">\n",
       "</div>\n",
       "<script>\n",
       "\n",
       "function display_root_plot_1682410590891(Core) {\n",
       "   let obj = Core.parse({\"_typename\":\"TCanvas\",\"fUniqueID\":0,\"fBits\":3342344,\"fLineColor\":1,\"fLineStyle\":1,\"fLineWidth\":1,\"fFillColor\":0,\"fFillStyle\":1001,\"fLeftMargin\":0.1,\"fRightMargin\":0.1,\"fBottomMargin\":0.1,\"fTopMargin\":0.1,\"fXfile\":2,\"fYfile\":2,\"fAfile\":1,\"fXstat\":0.99,\"fYstat\":0.99,\"fAstat\":2,\"fFrameFillColor\":0,\"fFrameLineColor\":1,\"fFrameFillStyle\":1001,\"fFrameLineStyle\":1,\"fFrameLineWidth\":1,\"fFrameBorderSize\":1,\"fFrameBorderMode\":0,\"fX1\":27.4999990686774,\"fY1\":-1742.83698476641,\"fX2\":152.500000931323,\"fY2\":15685.5318240859,\"fXtoAbsPixelk\":-175.119941459846,\"fXtoPixelk\":-175.119941459846,\"fXtoPixel\":6.3679999051094,\"fYtoAbsPixelk\":514.800046590614,\"fYtoPixelk\":514.800046590614,\"fYtoPixel\":-0.0328200536879543,\"fUtoAbsPixelk\":5e-5,\"fUtoPixelk\":5e-5,\"fUtoPixel\":796,\"fVtoAbsPixelk\":572.00005,\"fVtoPixelk\":572,\"fVtoPixel\":-572,\"fAbsPixeltoXk\":27.4999990686774,\"fPixeltoXk\":27.4999990686774,\"fPixeltoX\":0.157035178219404,\"fAbsPixeltoYk\":15685.5318240859,\"fPixeltoYk\":-1742.83698476641,\"fPixeltoY\":-30.4691762392523,\"fXlowNDC\":0,\"fYlowNDC\":0,\"fXUpNDC\":1,\"fYUpNDC\":1,\"fWNDC\":1,\"fHNDC\":1,\"fAbsXlowNDC\":0,\"fAbsYlowNDC\":0,\"fAbsWNDC\":1,\"fAbsHNDC\":1,\"fUxmin\":40,\"fUymin\":0,\"fUxmax\":140,\"fUymax\":13942.6948393195,\"fTheta\":30,\"fPhi\":30,\"fAspectRatio\":0,\"fNumber\":0,\"fTickx\":0,\"fTicky\":0,\"fLogx\":0,\"fLogy\":0,\"fLogz\":0,\"fPadPaint\":0,\"fCrosshair\":0,\"fCrosshairPos\":0,\"fBorderSize\":2,\"fBorderMode\":0,\"fModified\":false,\"fGridx\":false,\"fGridy\":false,\"fAbsCoord\":false,\"fEditable\":true,\"fFixedAspectRatio\":false,\"fPrimitives\":{\"_typename\":\"TList\",\"name\":\"TList\",\"arr\":[{\"_typename\":\"TFrame\",\"fUniqueID\":0,\"fBits\":8,\"fLineColor\":1,\"fLineStyle\":1,\"fLineWidth\":1,\"fFillColor\":0,\"fFillStyle\":1001,\"fX1\":40,\"fY1\":0,\"fX2\":140,\"fY2\":13942.6948393195,\"fBorderSize\":1,\"fBorderMode\":0},{\"_typename\":\"TH1F\",\"fUniqueID\":0,\"fBits\":8,\"fName\":\"variable\",\"fTitle\":\"Mass of the Z boson\",\"fLineColor\":602,\"fLineStyle\":1,\"fLineWidth\":1,\"fFillColor\":8,\"fFillStyle\":1001,\"fMarkerColor\":1,\"fMarkerStyle\":1,\"fMarkerSize\":1,\"fNcells\":32,\"fXaxis\":{\"_typename\":\"TAxis\",\"fUniqueID\":0,\"fBits\":0,\"fName\":\"xaxis\",\"fTitle\":\" mass [GeV]\",\"fNdivisions\":510,\"fAxisColor\":1,\"fLabelColor\":1,\"fLabelFont\":42,\"fLabelOffset\":0.005,\"fLabelSize\":0.035,\"fTickLength\":0.03,\"fTitleOffset\":1,\"fTitleSize\":0.035,\"fTitleColor\":1,\"fTitleFont\":42,\"fNbins\":30,\"fXmin\":40,\"fXmax\":140,\"fXbins\":[],\"fFirst\":0,\"fLast\":0,\"fBits2\":0,\"fTimeDisplay\":false,\"fTimeFormat\":\"\",\"fLabels\":null,\"fModLabs\":null},\"fYaxis\":{\"_typename\":\"TAxis\",\"fUniqueID\":0,\"fBits\":0,\"fName\":\"yaxis\",\"fTitle\":\" events\",\"fNdivisions\":510,\"fAxisColor\":1,\"fLabelColor\":1,\"fLabelFont\":42,\"fLabelOffset\":0.005,\"fLabelSize\":0.035,\"fTickLength\":0.03,\"fTitleOffset\":0,\"fTitleSize\":0.035,\"fTitleColor\":1,\"fTitleFont\":42,\"fNbins\":1,\"fXmin\":0,\"fXmax\":1,\"fXbins\":[],\"fFirst\":0,\"fLast\":0,\"fBits2\":0,\"fTimeDisplay\":false,\"fTimeFormat\":\"\",\"fLabels\":null,\"fModLabs\":null},\"fZaxis\":{\"_typename\":\"TAxis\",\"fUniqueID\":0,\"fBits\":0,\"fName\":\"zaxis\",\"fTitle\":\"\",\"fNdivisions\":510,\"fAxisColor\":1,\"fLabelColor\":1,\"fLabelFont\":42,\"fLabelOffset\":0.005,\"fLabelSize\":0.035,\"fTickLength\":0.03,\"fTitleOffset\":1,\"fTitleSize\":0.035,\"fTitleColor\":1,\"fTitleFont\":42,\"fNbins\":1,\"fXmin\":0,\"fXmax\":1,\"fXbins\":[],\"fFirst\":0,\"fLast\":0,\"fBits2\":0,\"fTimeDisplay\":false,\"fTimeFormat\":\"\",\"fLabels\":null,\"fModLabs\":null},\"fBarOffset\":0,\"fBarWidth\":1000,\"fEntries\":37212,\"fTsumw\":33267,\"fTsumw2\":33267,\"fTsumwx\":3025339.30057182,\"fTsumwx2\":277202511.117848,\"fMaximum\":-1111,\"fMinimum\":-1111,\"fNormFactor\":0,\"fContour\":[],\"fSumw2\":[],\"fOption\":\"\",\"fFunctions\":{\"_typename\":\"TList\",\"name\":\"TList\",\"arr\":[{\"_typename\":\"TPaveStats\",\"fUniqueID\":0,\"fBits\":9,\"fLineColor\":1,\"fLineStyle\":1,\"fLineWidth\":1,\"fFillColor\":0,\"fFillStyle\":1001,\"fX1\":125.000002533197,\"fY1\":11764.1489459753,\"fX2\":150.000003278256,\"fY2\":14552.687893063,\"fX1NDC\":0.780000016093254,\"fY1NDC\":0.775000005960464,\"fX2NDC\":0.980000019073486,\"fY2NDC\":0.935000002384186,\"fBorderSize\":1,\"fInit\":1,\"fShadowColor\":1,\"fCornerRadius\":0,\"fOption\":\"brNDC\",\"fName\":\"stats\",\"fTextAngle\":0,\"fTextSize\":0,\"fTextAlign\":12,\"fTextColor\":1,\"fTextFont\":42,\"fLabel\":\"\",\"fLongest\":18,\"fMargin\":0.05,\"fLines\":{\"_typename\":\"TList\",\"name\":\"TList\",\"arr\":[{\"_typename\":\"TLatex\",\"fUniqueID\":0,\"fBits\":0,\"fName\":\"\",\"fTitle\":\"variable\",\"fTextAngle\":0,\"fTextSize\":0.0368,\"fTextAlign\":0,\"fTextColor\":0,\"fTextFont\":0,\"fX\":0,\"fY\":0,\"fLineColor\":1,\"fLineStyle\":1,\"fLineWidth\":2,\"fLimitFactorSize\":3,\"fOriginSize\":0.0368000008165836},{\"_typename\":\"TLatex\",\"fUniqueID\":0,\"fBits\":0,\"fName\":\"\",\"fTitle\":\"Entries = 37212  \",\"fTextAngle\":0,\"fTextSize\":0,\"fTextAlign\":0,\"fTextColor\":0,\"fTextFont\":0,\"fX\":0,\"fY\":0,\"fLineColor\":1,\"fLineStyle\":1,\"fLineWidth\":2,\"fLimitFactorSize\":3,\"fOriginSize\":0.04},{\"_typename\":\"TLatex\",\"fUniqueID\":0,\"fBits\":0,\"fName\":\"\",\"fTitle\":\"Mean  =  90.94\",\"fTextAngle\":0,\"fTextSize\":0,\"fTextAlign\":0,\"fTextColor\":0,\"fTextFont\":0,\"fX\":0,\"fY\":0,\"fLineColor\":1,\"fLineStyle\":1,\"fLineWidth\":2,\"fLimitFactorSize\":3,\"fOriginSize\":0.04},{\"_typename\":\"TLatex\",\"fUniqueID\":0,\"fBits\":0,\"fName\":\"\",\"fTitle\":\"Std Dev   =  7.897\",\"fTextAngle\":0,\"fTextSize\":0,\"fTextAlign\":0,\"fTextColor\":0,\"fTextFont\":0,\"fX\":0,\"fY\":0,\"fLineColor\":1,\"fLineStyle\":1,\"fLineWidth\":2,\"fLimitFactorSize\":3,\"fOriginSize\":0.04}],\"opt\":[\"\",\"\",\"\",\"\"]},\"fOptFit\":0,\"fOptStat\":1111,\"fFitFormat\":\"5.4g\",\"fStatFormat\":\"6.4g\",\"fParent\":{\"$ref\":3}},{\"_typename\":\"TF1\",\"fUniqueID\":0,\"fBits\":1024,\"fName\":\"fBW\",\"fTitle\":\"[0]\\/((x-[1])*(x-[1])+([2]*[2])\\/4)\",\"fLineColor\":2,\"fLineStyle\":1,\"fLineWidth\":2,\"fFillColor\":19,\"fFillStyle\":0,\"fMarkerColor\":1,\"fMarkerStyle\":1,\"fMarkerSize\":1,\"fXmin\":60,\"fXmax\":120,\"fNpar\":3,\"fNdim\":1,\"fNpx\":100,\"fType\":0,\"fNpfits\":18,\"fNDF\":15,\"fChisquare\":154.905800543589,\"fMinimum\":-1111,\"fMaximum\":-1111,\"fParErrors\":[865.764966323585,0.0161918990741594,0.0436421826757817],\"fParMin\":[0,0,0],\"fParMax\":[0,0,0],\"fSave\":{\"$arr\":\"Float64\",\"len\":103,\"v\":[84.7359349636435,88.1542204909567,91.7832160186081,95.640568691202,99.745808772332,104.120595510026,108.789001199313,113.777840361073,119.117052395307,124.840147845402,130.984730617767,137.593111254904,144.71302981128,152.398511228953,160.710881615842,169.719980840959,179.505615841638,190.159310610778,201.786423840932,214.508724796854,228.467543750056,243.827647428879,260.782035478032,279.557915201572,300.42419503206,323.700951067825,349.771478495261,379.09775962941,412.240490687138,449.885252374694,492.877049023375,542.266376133295,599.371361049301,665.862600197087,743.880480232032,836.199655078708,946.462999666656,1079.51950229665,1241.92006173984,1442.65675568498,1694.28241896227,2014.62945365073,2429.47215977057,2976.64301846696,3712.2305945355,4719.10154127313,6115.321713309,8049.15316997491,10633.3573633233,13709.014571847,16409.648454579,17232.8111015308,15573.4267330676,12580.3451161374,9628.32428289594,7281.97322050169,5559.11880855236,4318.94811269485,3421.31683469147,2761.46667153674,2267.25639620823,1890.0338429866,1596.89711819259,1365.31481827417,1179.60247139378,1028.64925739735,904.446879392586,801.126947806174,714.321869773406,640.733744766516,577.838867647676,523.681986975361,476.730892115316,435.77216887679,399.835461932303,368.137753412217,340.041882734789,315.025325973985,292.656453625797,272.576300138959,254.484438235448,238.12794028411,223.292682838246,209.796445231095,197.483393113774,186.219639426269,175.889649729769,166.393313847573,157.643546771154,149.564312600093,142.088988611601,135.15900434362,128.722704233752,122.734392912437,117.153530458562,111.944051348914,107.073785886982,102.513966895298,98.2388076356212,94.2251394631258,90.4520997622007,60,120]},\"fNormalized\":false,\"fNormIntegral\":0,\"fFormula\":{\"_typename\":\"TFormula\",\"fUniqueID\":0,\"fBits\":1024,\"fName\":\"fBW\",\"fTitle\":\"[0]\\/((x-[1])*(x-[1])+([2]*[2])\\/4)\",\"fClingParameters\":[79172.8570256216,90.4920548687596,4.28142813836736],\"fAllParametersSetted\":true,\"fParams\":[{\"$pair\":\"pair<TString,int,TFormulaParamOrder>\",\"first\":\"p0\",\"second\":0},{\"$pair\":\"pair<TString,int,TFormulaParamOrder>\",\"first\":\"p1\",\"second\":1},{\"$pair\":\"pair<TString,int,TFormulaParamOrder>\",\"first\":\"p2\",\"second\":2}],\"fFormula\":\"[p0]\\/((x-[p1])*(x-[p1])+([p2]*[p2])\\/4)\",\"fNdim\":1,\"fLinearParts\":[],\"fVectorized\":false},\"fParams\":null,\"fComposition\":null}],\"opt\":[\"brNDC\",\"\"]},\"fBufferSize\":0,\"fBuffer\":[],\"fBinStatErrOpt\":0,\"fStatOverflows\":2,\"fArray\":{\"$arr\":\"Float32\",\"len\":32,\"v\":[52,12,12,18,15,14,42,94,127,151,201,285,481,936,2424,8611,13145,3699,1091,515,281,241,156,133,116,105,78,90,70,62,62,3893]}},{\"_typename\":\"TPaveText\",\"fUniqueID\":0,\"fBits\":9,\"fLineColor\":1,\"fLineStyle\":1,\"fLineWidth\":1,\"fFillColor\":0,\"fFillStyle\":0,\"fX1\":66.8435926197668,\"fY1\":14639.829764376,\"fX2\":113.156407380233,\"fY2\":15598.3900631466,\"fX1NDC\":0.314748743718593,\"fY1NDC\":0.940000003948808,\"fX2NDC\":0.685251256281407,\"fY2NDC\":0.995000004768372,\"fBorderSize\":0,\"fInit\":1,\"fShadowColor\":1,\"fCornerRadius\":0,\"fOption\":\"blNDC\",\"fName\":\"title\",\"fTextAngle\":0,\"fTextSize\":0,\"fTextAlign\":22,\"fTextColor\":1,\"fTextFont\":42,\"fLabel\":\"\",\"fLongest\":19,\"fMargin\":0.05,\"fLines\":{\"_typename\":\"TList\",\"name\":\"TList\",\"arr\":[{\"_typename\":\"TLatex\",\"fUniqueID\":0,\"fBits\":0,\"fName\":\"\",\"fTitle\":\"Mass of the Z boson\",\"fTextAngle\":0,\"fTextSize\":0,\"fTextAlign\":0,\"fTextColor\":0,\"fTextFont\":0,\"fX\":0,\"fY\":0,\"fLineColor\":1,\"fLineStyle\":1,\"fLineWidth\":2,\"fLimitFactorSize\":3,\"fOriginSize\":0.0467500016093254}],\"opt\":[\"\"]}},{\"_typename\":\"TF1\",\"fUniqueID\":0,\"fBits\":8,\"fName\":\"fBW\",\"fTitle\":\"[0]\\/((x-[1])*(x-[1])+([2]*[2])\\/4)\",\"fLineColor\":2,\"fLineStyle\":1,\"fLineWidth\":2,\"fFillColor\":19,\"fFillStyle\":0,\"fMarkerColor\":1,\"fMarkerStyle\":1,\"fMarkerSize\":1,\"fXmin\":60,\"fXmax\":120,\"fNpar\":3,\"fNdim\":1,\"fNpx\":100,\"fType\":0,\"fNpfits\":18,\"fNDF\":15,\"fChisquare\":154.905800543589,\"fMinimum\":-1111,\"fMaximum\":-1111,\"fParErrors\":[865.764966323585,0.0161918990741594,0.0436421826757817],\"fParMin\":[0,0,0],\"fParMax\":[0,0,0],\"fSave\":[],\"fNormalized\":false,\"fNormIntegral\":0,\"fFormula\":{\"_typename\":\"TFormula\",\"fUniqueID\":0,\"fBits\":1024,\"fName\":\"fBW\",\"fTitle\":\"[0]\\/((x-[1])*(x-[1])+([2]*[2])\\/4)\",\"fClingParameters\":[79172.8570256216,90.4920548687596,4.28142813836736],\"fAllParametersSetted\":true,\"fParams\":[{\"$pair\":\"pair<TString,int,TFormulaParamOrder>\",\"first\":\"p0\",\"second\":0},{\"$pair\":\"pair<TString,int,TFormulaParamOrder>\",\"first\":\"p1\",\"second\":1},{\"$pair\":\"pair<TString,int,TFormulaParamOrder>\",\"first\":\"p2\",\"second\":2}],\"fFormula\":\"[p0]\\/((x-[p1])*(x-[p1])+([p2]*[p2])\\/4)\",\"fNdim\":1,\"fLinearParts\":[],\"fVectorized\":false},\"fParams\":null,\"fComposition\":null},{\"_typename\":\"TStyle\",\"fUniqueID\":0,\"fBits\":0,\"fName\":\"Modern\",\"fTitle\":\"Modern Style\",\"fLineColor\":1,\"fLineStyle\":1,\"fLineWidth\":1,\"fFillColor\":19,\"fFillStyle\":1001,\"fMarkerColor\":1,\"fMarkerStyle\":1,\"fMarkerSize\":1,\"fTextAngle\":0,\"fTextSize\":0.05,\"fTextAlign\":11,\"fTextColor\":1,\"fTextFont\":62,\"fXaxis\":{\"_typename\":\"TAttAxis\",\"fNdivisions\":510,\"fAxisColor\":1,\"fLabelColor\":1,\"fLabelFont\":42,\"fLabelOffset\":0.005,\"fLabelSize\":0.035,\"fTickLength\":0.03,\"fTitleOffset\":1,\"fTitleSize\":0.035,\"fTitleColor\":1,\"fTitleFont\":42},\"fYaxis\":{\"_typename\":\"TAttAxis\",\"fNdivisions\":510,\"fAxisColor\":1,\"fLabelColor\":1,\"fLabelFont\":42,\"fLabelOffset\":0.005,\"fLabelSize\":0.035,\"fTickLength\":0.03,\"fTitleOffset\":0,\"fTitleSize\":0.035,\"fTitleColor\":1,\"fTitleFont\":42},\"fZaxis\":{\"_typename\":\"TAttAxis\",\"fNdivisions\":510,\"fAxisColor\":1,\"fLabelColor\":1,\"fLabelFont\":42,\"fLabelOffset\":0.005,\"fLabelSize\":0.035,\"fTickLength\":0.03,\"fTitleOffset\":1,\"fTitleSize\":0.035,\"fTitleColor\":1,\"fTitleFont\":42},\"fBarWidth\":1,\"fBarOffset\":0,\"fColorModelPS\":0,\"fDrawBorder\":0,\"fOptLogx\":0,\"fOptLogy\":0,\"fOptLogz\":0,\"fOptDate\":0,\"fOptStat\":1111,\"fOptTitle\":1,\"fOptFile\":0,\"fOptFit\":0,\"fShowEventStatus\":0,\"fShowEditor\":0,\"fShowToolBar\":0,\"fNumberContours\":20,\"fAttDate\":{\"_typename\":\"TAttText\",\"fTextAngle\":0,\"fTextSize\":0.025,\"fTextAlign\":11,\"fTextColor\":1,\"fTextFont\":62},\"fDateX\":0.01,\"fDateY\":0.01,\"fEndErrorSize\":2,\"fErrorX\":0.5,\"fFuncColor\":2,\"fFuncStyle\":1,\"fFuncWidth\":2,\"fGridColor\":0,\"fGridStyle\":3,\"fGridWidth\":1,\"fLegendBorderSize\":1,\"fLegendFillColor\":0,\"fLegendFont\":42,\"fLegendTextSize\":0,\"fHatchesLineWidth\":1,\"fHatchesSpacing\":1,\"fFrameFillColor\":0,\"fFrameLineColor\":1,\"fFrameFillStyle\":1001,\"fFrameLineStyle\":1,\"fFrameLineWidth\":1,\"fFrameBorderSize\":1,\"fFrameBorderMode\":0,\"fHistFillColor\":0,\"fHistLineColor\":602,\"fHistFillStyle\":1001,\"fHistLineStyle\":1,\"fHistLineWidth\":1,\"fHistMinimumZero\":false,\"fHistTopMargin\":0.05,\"fCanvasPreferGL\":false,\"fCanvasColor\":0,\"fCanvasBorderSize\":2,\"fCanvasBorderMode\":0,\"fCanvasDefH\":500,\"fCanvasDefW\":700,\"fCanvasDefX\":10,\"fCanvasDefY\":10,\"fPadColor\":0,\"fPadBorderSize\":2,\"fPadBorderMode\":0,\"fPadBottomMargin\":0.1,\"fPadTopMargin\":0.1,\"fPadLeftMargin\":0.1,\"fPadRightMargin\":0.1,\"fPadGridX\":false,\"fPadGridY\":false,\"fPadTickX\":0,\"fPadTickY\":0,\"fPaperSizeX\":20,\"fPaperSizeY\":26,\"fScreenFactor\":1,\"fStatColor\":0,\"fStatTextColor\":1,\"fStatBorderSize\":1,\"fStatFont\":42,\"fStatFontSize\":0,\"fStatStyle\":1001,\"fStatFormat\":\"6.4g\",\"fStatX\":0.98,\"fStatY\":0.935,\"fStatW\":0.2,\"fStatH\":0.16,\"fStripDecimals\":true,\"fTitleAlign\":23,\"fTitleColor\":0,\"fTitleTextColor\":1,\"fTitleBorderSize\":0,\"fTitleFont\":42,\"fTitleFontSize\":0.05,\"fTitleStyle\":0,\"fTitleX\":0.5,\"fTitleY\":0.995,\"fTitleW\":0,\"fTitleH\":0,\"fLegoInnerR\":0.5,\"fLineStyles\":[\"\",\"  \",\" 12 12\",\" 4 8\",\" 12 16 4 16\",\" 20 12 4 12\",\" 20 12 4 12 4 12 4 12\",\" 20 20\",\" 20 12 4 12 4 12\",\" 80 20\",\" 80 40 4 40\",\"  \",\"  \",\"  \",\"  \",\"  \",\"  \",\"  \",\"  \",\"  \",\"  \",\"  \",\"  \",\"  \",\"  \",\"  \",\"  \",\"  \",\"  \",\"  \"],\"fHeaderPS\":\"\",\"fTitlePS\":\"\",\"fFitFormat\":\"5.4g\",\"fPaintTextFormat\":\"g\",\"fLineScalePS\":3,\"fJoinLinePS\":0,\"fCapLinePS\":0,\"fTimeOffset\":788918400,\"fImageScaling\":1}],\"opt\":[\"\",\"\",\"blNDC\",\"sames\",\"\"]},\"fExecs\":null,\"fName\":\"Canvas\",\"fTitle\":\"c\",\"fNumPaletteColor\":0,\"fNextPaletteColor\":0,\"fDISPLAY\":\"$DISPLAY\",\"fDoubleBuffer\":0,\"fRetained\":true,\"fXsizeUser\":0,\"fYsizeUser\":0,\"fXsizeReal\":20,\"fYsizeReal\":15,\"fWindowTopX\":0,\"fWindowTopY\":0,\"fWindowWidth\":0,\"fWindowHeight\":0,\"fCw\":796,\"fCh\":572,\"fCatt\":{\"_typename\":\"TAttCanvas\",\"fXBetween\":2,\"fYBetween\":2,\"fTitleFromTop\":1.2,\"fXdate\":0.2,\"fYdate\":0.3,\"fAdate\":1},\"kMoveOpaque\":true,\"kResizeOpaque\":true,\"fHighLightColor\":2,\"fBatch\":true,\"kShowEventStatus\":false,\"kAutoExec\":true,\"kMenuBar\":true});\n",
       "   Core.settings.HandleKeys = false;\n",
       "   Core.draw(\"root_plot_1682410590891\", obj, \"\");\n",
       "}\n",
       "\n",
       "function script_load_root_plot_1682410590891(src, on_error) {\n",
       "    let script = document.createElement('script');\n",
       "    script.src = src;\n",
       "    script.onload = function() { display_root_plot_1682410590891(JSROOT); };\n",
       "    script.onerror = function() { script.remove(); on_error(); };\n",
       "    document.head.appendChild(script);\n",
       "}\n",
       "\n",
       "if (typeof requirejs !== 'undefined') {\n",
       "\n",
       "    // We are in jupyter notebooks, use require.js which should be configured already\n",
       "    requirejs.config({\n",
       "       paths: { 'JSRootCore' : [ 'scripts/JSRoot.core', 'https://root.cern/js/6.1.1/scripts/JSRoot.core.min', 'https://jsroot.gsi.de/6.1.1/scripts/JSRoot.core.min' ] }\n",
       "    })(['JSRootCore'],  function(Core) {\n",
       "       display_root_plot_1682410590891(Core);\n",
       "    });\n",
       "\n",
       "} else if (typeof JSROOT !== 'undefined') {\n",
       "\n",
       "   // JSROOT already loaded, just use it\n",
       "   display_root_plot_1682410590891(JSROOT);\n",
       "\n",
       "} else {\n",
       "\n",
       "    // We are in jupyterlab without require.js, directly loading jsroot\n",
       "    // Jupyterlab might be installed in a different base_url so we need to know it.\n",
       "    try {\n",
       "        var base_url = JSON.parse(document.getElementById('jupyter-config-data').innerHTML).baseUrl;\n",
       "    } catch(_) {\n",
       "        var base_url = '/';\n",
       "    }\n",
       "\n",
       "    // Try loading a local version of requirejs and fallback to cdn if not possible.\n",
       "    script_load_root_plot_1682410590891(base_url + 'static/scripts/JSRoot.core.js', function(){\n",
       "        console.error('Fail to load JSROOT locally, please check your jupyter_notebook_config.py file');\n",
       "        script_load_root_plot_1682410590891('https://root.cern/js/6.1.1/scripts/JSRoot.core.min.js', function(){\n",
       "            document.getElementById(\"root_plot_1682410590891\").innerHTML = \"Failed to load JSROOT\";\n",
       "        });\n",
       "    });\n",
       "}\n",
       "\n",
       "</script>\n"
      ],
      "text/plain": [
       "<IPython.core.display.HTML object>"
      ]
     },
     "metadata": {},
     "output_type": "display_data"
    }
   ],
   "source": [
    "canvas.Draw()"
   ]
  },
  {
   "cell_type": "markdown",
   "id": "947d0f2b",
   "metadata": {},
   "source": [
    "Extending the range of the y-axis would provide a clearer view of the fitting curve:"
   ]
  },
  {
   "cell_type": "code",
   "execution_count": 15,
   "id": "1274fb9d",
   "metadata": {},
   "outputs": [],
   "source": [
    "hist.GetYaxis().SetRangeUser(0, hist.GetMaximum()+0.4*hist.GetMaximum())"
   ]
  },
  {
   "cell_type": "code",
   "execution_count": 16,
   "id": "af841b27",
   "metadata": {
    "scrolled": false
   },
   "outputs": [
    {
     "data": {
      "text/html": [
       "\n",
       "\n",
       "<div id=\"root_plot_1682410591127\"\n",
       "     style=\"width: 796px; height: 572px\">\n",
       "</div>\n",
       "<script>\n",
       "\n",
       "function display_root_plot_1682410591127(Core) {\n",
       "   let obj = Core.parse({\"_typename\":\"TCanvas\",\"fUniqueID\":0,\"fBits\":3342344,\"fLineColor\":1,\"fLineStyle\":1,\"fLineWidth\":1,\"fFillColor\":0,\"fFillStyle\":1001,\"fLeftMargin\":0.1,\"fRightMargin\":0.1,\"fBottomMargin\":0.1,\"fTopMargin\":0.1,\"fXfile\":2,\"fYfile\":2,\"fAfile\":1,\"fXstat\":0.99,\"fYstat\":0.99,\"fAstat\":2,\"fFrameFillColor\":0,\"fFrameLineColor\":1,\"fFrameFillStyle\":1001,\"fFrameLineStyle\":1,\"fFrameLineWidth\":1,\"fFrameBorderSize\":1,\"fFrameBorderMode\":0,\"fX1\":27.4999990686774,\"fY1\":-2300.3751713913,\"fX2\":152.500000931323,\"fY2\":20703.3751713913,\"fXtoAbsPixelk\":-175.119941459846,\"fXtoPixelk\":-175.119941459846,\"fXtoPixel\":6.3679999051094,\"fYtoAbsPixelk\":514.800046590614,\"fYtoPixelk\":514.800046590614,\"fYtoPixel\":-0.0248655106874547,\"fUtoAbsPixelk\":5e-5,\"fUtoPixelk\":5e-5,\"fUtoPixel\":796,\"fVtoAbsPixelk\":572.00005,\"fVtoPixelk\":572,\"fVtoPixel\":-572,\"fAbsPixeltoXk\":27.4999990686774,\"fPixeltoXk\":27.4999990686774,\"fPixeltoX\":0.157035178219404,\"fAbsPixeltoYk\":20703.3751713913,\"fPixeltoYk\":-2300.3751713913,\"fPixeltoY\":-40.2163467531164,\"fXlowNDC\":0,\"fYlowNDC\":0,\"fXUpNDC\":1,\"fYUpNDC\":1,\"fWNDC\":1,\"fHNDC\":1,\"fAbsXlowNDC\":0,\"fAbsYlowNDC\":0,\"fAbsWNDC\":1,\"fAbsHNDC\":1,\"fUxmin\":40,\"fUymin\":0,\"fUxmax\":140,\"fUymax\":18403,\"fTheta\":30,\"fPhi\":30,\"fAspectRatio\":0,\"fNumber\":0,\"fTickx\":0,\"fTicky\":0,\"fLogx\":0,\"fLogy\":0,\"fLogz\":0,\"fPadPaint\":0,\"fCrosshair\":0,\"fCrosshairPos\":0,\"fBorderSize\":2,\"fBorderMode\":0,\"fModified\":false,\"fGridx\":false,\"fGridy\":false,\"fAbsCoord\":false,\"fEditable\":true,\"fFixedAspectRatio\":false,\"fPrimitives\":{\"_typename\":\"TList\",\"name\":\"TList\",\"arr\":[{\"_typename\":\"TFrame\",\"fUniqueID\":0,\"fBits\":8,\"fLineColor\":1,\"fLineStyle\":1,\"fLineWidth\":1,\"fFillColor\":0,\"fFillStyle\":1001,\"fX1\":40,\"fY1\":0,\"fX2\":140,\"fY2\":18403,\"fBorderSize\":1,\"fBorderMode\":0},{\"_typename\":\"TH1F\",\"fUniqueID\":0,\"fBits\":8,\"fName\":\"variable\",\"fTitle\":\"Mass of the Z boson\",\"fLineColor\":602,\"fLineStyle\":1,\"fLineWidth\":1,\"fFillColor\":8,\"fFillStyle\":1001,\"fMarkerColor\":1,\"fMarkerStyle\":1,\"fMarkerSize\":1,\"fNcells\":32,\"fXaxis\":{\"_typename\":\"TAxis\",\"fUniqueID\":0,\"fBits\":0,\"fName\":\"xaxis\",\"fTitle\":\" mass [GeV]\",\"fNdivisions\":510,\"fAxisColor\":1,\"fLabelColor\":1,\"fLabelFont\":42,\"fLabelOffset\":0.005,\"fLabelSize\":0.035,\"fTickLength\":0.03,\"fTitleOffset\":1,\"fTitleSize\":0.035,\"fTitleColor\":1,\"fTitleFont\":42,\"fNbins\":30,\"fXmin\":40,\"fXmax\":140,\"fXbins\":[],\"fFirst\":0,\"fLast\":0,\"fBits2\":0,\"fTimeDisplay\":false,\"fTimeFormat\":\"\",\"fLabels\":null,\"fModLabs\":null},\"fYaxis\":{\"_typename\":\"TAxis\",\"fUniqueID\":0,\"fBits\":0,\"fName\":\"yaxis\",\"fTitle\":\" events\",\"fNdivisions\":510,\"fAxisColor\":1,\"fLabelColor\":1,\"fLabelFont\":42,\"fLabelOffset\":0.005,\"fLabelSize\":0.035,\"fTickLength\":0.03,\"fTitleOffset\":0,\"fTitleSize\":0.035,\"fTitleColor\":1,\"fTitleFont\":42,\"fNbins\":1,\"fXmin\":0,\"fXmax\":1,\"fXbins\":[],\"fFirst\":0,\"fLast\":0,\"fBits2\":0,\"fTimeDisplay\":false,\"fTimeFormat\":\"\",\"fLabels\":null,\"fModLabs\":null},\"fZaxis\":{\"_typename\":\"TAxis\",\"fUniqueID\":0,\"fBits\":0,\"fName\":\"zaxis\",\"fTitle\":\"\",\"fNdivisions\":510,\"fAxisColor\":1,\"fLabelColor\":1,\"fLabelFont\":42,\"fLabelOffset\":0.005,\"fLabelSize\":0.035,\"fTickLength\":0.03,\"fTitleOffset\":1,\"fTitleSize\":0.035,\"fTitleColor\":1,\"fTitleFont\":42,\"fNbins\":1,\"fXmin\":0,\"fXmax\":1,\"fXbins\":[],\"fFirst\":0,\"fLast\":0,\"fBits2\":0,\"fTimeDisplay\":false,\"fTimeFormat\":\"\",\"fLabels\":null,\"fModLabs\":null},\"fBarOffset\":0,\"fBarWidth\":1000,\"fEntries\":37212,\"fTsumw\":33267,\"fTsumw2\":33267,\"fTsumwx\":3025339.30057182,\"fTsumwx2\":277202511.117848,\"fMaximum\":18403,\"fMinimum\":0,\"fNormFactor\":0,\"fContour\":[],\"fSumw2\":[],\"fOption\":\"\",\"fFunctions\":{\"_typename\":\"TList\",\"name\":\"TList\",\"arr\":[{\"_typename\":\"TPaveStats\",\"fUniqueID\":0,\"fBits\":9,\"fLineColor\":1,\"fLineStyle\":1,\"fLineWidth\":1,\"fFillColor\":0,\"fFillStyle\":1001,\"fX1\":125.000002533197,\"fY1\":15527.5314813783,\"fX2\":150.000003278256,\"fY2\":19208.1314539556,\"fX1NDC\":0.780000016093254,\"fY1NDC\":0.775000005960464,\"fX2NDC\":0.980000019073486,\"fY2NDC\":0.935000002384186,\"fBorderSize\":1,\"fInit\":1,\"fShadowColor\":1,\"fCornerRadius\":0,\"fOption\":\"brNDC\",\"fName\":\"stats\",\"fTextAngle\":0,\"fTextSize\":0,\"fTextAlign\":12,\"fTextColor\":1,\"fTextFont\":42,\"fLabel\":\"\",\"fLongest\":18,\"fMargin\":0.05,\"fLines\":{\"_typename\":\"TList\",\"name\":\"TList\",\"arr\":[{\"_typename\":\"TLatex\",\"fUniqueID\":0,\"fBits\":0,\"fName\":\"\",\"fTitle\":\"variable\",\"fTextAngle\":0,\"fTextSize\":0.0368,\"fTextAlign\":0,\"fTextColor\":0,\"fTextFont\":0,\"fX\":0,\"fY\":0,\"fLineColor\":1,\"fLineStyle\":1,\"fLineWidth\":2,\"fLimitFactorSize\":3,\"fOriginSize\":0.0368000008165836},{\"_typename\":\"TLatex\",\"fUniqueID\":0,\"fBits\":0,\"fName\":\"\",\"fTitle\":\"Entries = 37212  \",\"fTextAngle\":0,\"fTextSize\":0,\"fTextAlign\":0,\"fTextColor\":0,\"fTextFont\":0,\"fX\":0,\"fY\":0,\"fLineColor\":1,\"fLineStyle\":1,\"fLineWidth\":2,\"fLimitFactorSize\":3,\"fOriginSize\":0.04},{\"_typename\":\"TLatex\",\"fUniqueID\":0,\"fBits\":0,\"fName\":\"\",\"fTitle\":\"Mean  =  90.94\",\"fTextAngle\":0,\"fTextSize\":0,\"fTextAlign\":0,\"fTextColor\":0,\"fTextFont\":0,\"fX\":0,\"fY\":0,\"fLineColor\":1,\"fLineStyle\":1,\"fLineWidth\":2,\"fLimitFactorSize\":3,\"fOriginSize\":0.04},{\"_typename\":\"TLatex\",\"fUniqueID\":0,\"fBits\":0,\"fName\":\"\",\"fTitle\":\"Std Dev   =  7.897\",\"fTextAngle\":0,\"fTextSize\":0,\"fTextAlign\":0,\"fTextColor\":0,\"fTextFont\":0,\"fX\":0,\"fY\":0,\"fLineColor\":1,\"fLineStyle\":1,\"fLineWidth\":2,\"fLimitFactorSize\":3,\"fOriginSize\":0.04}],\"opt\":[\"\",\"\",\"\",\"\"]},\"fOptFit\":0,\"fOptStat\":1111,\"fFitFormat\":\"5.4g\",\"fStatFormat\":\"6.4g\",\"fParent\":{\"$ref\":3}},{\"_typename\":\"TF1\",\"fUniqueID\":0,\"fBits\":1024,\"fName\":\"fBW\",\"fTitle\":\"[0]\\/((x-[1])*(x-[1])+([2]*[2])\\/4)\",\"fLineColor\":2,\"fLineStyle\":1,\"fLineWidth\":2,\"fFillColor\":19,\"fFillStyle\":0,\"fMarkerColor\":1,\"fMarkerStyle\":1,\"fMarkerSize\":1,\"fXmin\":60,\"fXmax\":120,\"fNpar\":3,\"fNdim\":1,\"fNpx\":100,\"fType\":0,\"fNpfits\":18,\"fNDF\":15,\"fChisquare\":154.905800543589,\"fMinimum\":-1111,\"fMaximum\":-1111,\"fParErrors\":[865.764966323585,0.0161918990741594,0.0436421826757817],\"fParMin\":[0,0,0],\"fParMax\":[0,0,0],\"fSave\":{\"$arr\":\"Float64\",\"len\":103,\"v\":[84.7359349636435,88.1542204909567,91.7832160186081,95.640568691202,99.745808772332,104.120595510026,108.789001199313,113.777840361073,119.117052395307,124.840147845402,130.984730617767,137.593111254904,144.71302981128,152.398511228953,160.710881615842,169.719980840959,179.505615841638,190.159310610778,201.786423840932,214.508724796854,228.467543750056,243.827647428879,260.782035478032,279.557915201572,300.42419503206,323.700951067825,349.771478495261,379.09775962941,412.240490687138,449.885252374694,492.877049023375,542.266376133295,599.371361049301,665.862600197087,743.880480232032,836.199655078708,946.462999666656,1079.51950229665,1241.92006173984,1442.65675568498,1694.28241896227,2014.62945365073,2429.47215977057,2976.64301846696,3712.2305945355,4719.10154127313,6115.321713309,8049.15316997491,10633.3573633233,13709.014571847,16409.648454579,17232.8111015308,15573.4267330676,12580.3451161374,9628.32428289594,7281.97322050169,5559.11880855236,4318.94811269485,3421.31683469147,2761.46667153674,2267.25639620823,1890.0338429866,1596.89711819259,1365.31481827417,1179.60247139378,1028.64925739735,904.446879392586,801.126947806174,714.321869773406,640.733744766516,577.838867647676,523.681986975361,476.730892115316,435.77216887679,399.835461932303,368.137753412217,340.041882734789,315.025325973985,292.656453625797,272.576300138959,254.484438235448,238.12794028411,223.292682838246,209.796445231095,197.483393113774,186.219639426269,175.889649729769,166.393313847573,157.643546771154,149.564312600093,142.088988611601,135.15900434362,128.722704233752,122.734392912437,117.153530458562,111.944051348914,107.073785886982,102.513966895298,98.2388076356212,94.2251394631258,90.4520997622007,60,120]},\"fNormalized\":false,\"fNormIntegral\":0,\"fFormula\":{\"_typename\":\"TFormula\",\"fUniqueID\":0,\"fBits\":1024,\"fName\":\"fBW\",\"fTitle\":\"[0]\\/((x-[1])*(x-[1])+([2]*[2])\\/4)\",\"fClingParameters\":[79172.8570256216,90.4920548687596,4.28142813836736],\"fAllParametersSetted\":true,\"fParams\":[{\"$pair\":\"pair<TString,int,TFormulaParamOrder>\",\"first\":\"p0\",\"second\":0},{\"$pair\":\"pair<TString,int,TFormulaParamOrder>\",\"first\":\"p1\",\"second\":1},{\"$pair\":\"pair<TString,int,TFormulaParamOrder>\",\"first\":\"p2\",\"second\":2}],\"fFormula\":\"[p0]\\/((x-[p1])*(x-[p1])+([p2]*[p2])\\/4)\",\"fNdim\":1,\"fLinearParts\":[],\"fVectorized\":false},\"fParams\":null,\"fComposition\":null}],\"opt\":[\"brNDC\",\"\"]},\"fBufferSize\":0,\"fBuffer\":[],\"fBinStatErrOpt\":0,\"fStatOverflows\":2,\"fArray\":{\"$arr\":\"Float32\",\"len\":32,\"v\":[52,12,12,18,15,14,42,94,127,151,201,285,481,936,2424,8611,13145,3699,1091,515,281,241,156,133,116,105,78,90,70,62,62,3893]}},{\"_typename\":\"TPaveText\",\"fUniqueID\":0,\"fBits\":9,\"fLineColor\":1,\"fLineStyle\":1,\"fLineWidth\":1,\"fFillColor\":0,\"fFillStyle\":0,\"fX1\":66.8435926197668,\"fY1\":19323.1502416617,\"fX2\":113.156407380233,\"fY2\":20588.3565293678,\"fX1NDC\":0.314748743718593,\"fY1NDC\":0.940000003948808,\"fX2NDC\":0.685251256281407,\"fY2NDC\":0.995000004768372,\"fBorderSize\":0,\"fInit\":1,\"fShadowColor\":1,\"fCornerRadius\":0,\"fOption\":\"blNDC\",\"fName\":\"title\",\"fTextAngle\":0,\"fTextSize\":0,\"fTextAlign\":22,\"fTextColor\":1,\"fTextFont\":42,\"fLabel\":\"\",\"fLongest\":19,\"fMargin\":0.05,\"fLines\":{\"_typename\":\"TList\",\"name\":\"TList\",\"arr\":[{\"_typename\":\"TLatex\",\"fUniqueID\":0,\"fBits\":0,\"fName\":\"\",\"fTitle\":\"Mass of the Z boson\",\"fTextAngle\":0,\"fTextSize\":0,\"fTextAlign\":0,\"fTextColor\":0,\"fTextFont\":0,\"fX\":0,\"fY\":0,\"fLineColor\":1,\"fLineStyle\":1,\"fLineWidth\":2,\"fLimitFactorSize\":3,\"fOriginSize\":0.0467500016093254}],\"opt\":[\"\"]}},{\"_typename\":\"TF1\",\"fUniqueID\":0,\"fBits\":8,\"fName\":\"fBW\",\"fTitle\":\"[0]\\/((x-[1])*(x-[1])+([2]*[2])\\/4)\",\"fLineColor\":2,\"fLineStyle\":1,\"fLineWidth\":2,\"fFillColor\":19,\"fFillStyle\":0,\"fMarkerColor\":1,\"fMarkerStyle\":1,\"fMarkerSize\":1,\"fXmin\":60,\"fXmax\":120,\"fNpar\":3,\"fNdim\":1,\"fNpx\":100,\"fType\":0,\"fNpfits\":18,\"fNDF\":15,\"fChisquare\":154.905800543589,\"fMinimum\":-1111,\"fMaximum\":-1111,\"fParErrors\":[865.764966323585,0.0161918990741594,0.0436421826757817],\"fParMin\":[0,0,0],\"fParMax\":[0,0,0],\"fSave\":[],\"fNormalized\":false,\"fNormIntegral\":0,\"fFormula\":{\"_typename\":\"TFormula\",\"fUniqueID\":0,\"fBits\":1024,\"fName\":\"fBW\",\"fTitle\":\"[0]\\/((x-[1])*(x-[1])+([2]*[2])\\/4)\",\"fClingParameters\":[79172.8570256216,90.4920548687596,4.28142813836736],\"fAllParametersSetted\":true,\"fParams\":[{\"$pair\":\"pair<TString,int,TFormulaParamOrder>\",\"first\":\"p0\",\"second\":0},{\"$pair\":\"pair<TString,int,TFormulaParamOrder>\",\"first\":\"p1\",\"second\":1},{\"$pair\":\"pair<TString,int,TFormulaParamOrder>\",\"first\":\"p2\",\"second\":2}],\"fFormula\":\"[p0]\\/((x-[p1])*(x-[p1])+([p2]*[p2])\\/4)\",\"fNdim\":1,\"fLinearParts\":[],\"fVectorized\":false},\"fParams\":null,\"fComposition\":null},{\"_typename\":\"TStyle\",\"fUniqueID\":0,\"fBits\":0,\"fName\":\"Modern\",\"fTitle\":\"Modern Style\",\"fLineColor\":1,\"fLineStyle\":1,\"fLineWidth\":1,\"fFillColor\":19,\"fFillStyle\":1001,\"fMarkerColor\":1,\"fMarkerStyle\":1,\"fMarkerSize\":1,\"fTextAngle\":0,\"fTextSize\":0.05,\"fTextAlign\":11,\"fTextColor\":1,\"fTextFont\":62,\"fXaxis\":{\"_typename\":\"TAttAxis\",\"fNdivisions\":510,\"fAxisColor\":1,\"fLabelColor\":1,\"fLabelFont\":42,\"fLabelOffset\":0.005,\"fLabelSize\":0.035,\"fTickLength\":0.03,\"fTitleOffset\":1,\"fTitleSize\":0.035,\"fTitleColor\":1,\"fTitleFont\":42},\"fYaxis\":{\"_typename\":\"TAttAxis\",\"fNdivisions\":510,\"fAxisColor\":1,\"fLabelColor\":1,\"fLabelFont\":42,\"fLabelOffset\":0.005,\"fLabelSize\":0.035,\"fTickLength\":0.03,\"fTitleOffset\":0,\"fTitleSize\":0.035,\"fTitleColor\":1,\"fTitleFont\":42},\"fZaxis\":{\"_typename\":\"TAttAxis\",\"fNdivisions\":510,\"fAxisColor\":1,\"fLabelColor\":1,\"fLabelFont\":42,\"fLabelOffset\":0.005,\"fLabelSize\":0.035,\"fTickLength\":0.03,\"fTitleOffset\":1,\"fTitleSize\":0.035,\"fTitleColor\":1,\"fTitleFont\":42},\"fBarWidth\":1,\"fBarOffset\":0,\"fColorModelPS\":0,\"fDrawBorder\":0,\"fOptLogx\":0,\"fOptLogy\":0,\"fOptLogz\":0,\"fOptDate\":0,\"fOptStat\":1111,\"fOptTitle\":1,\"fOptFile\":0,\"fOptFit\":0,\"fShowEventStatus\":0,\"fShowEditor\":0,\"fShowToolBar\":0,\"fNumberContours\":20,\"fAttDate\":{\"_typename\":\"TAttText\",\"fTextAngle\":0,\"fTextSize\":0.025,\"fTextAlign\":11,\"fTextColor\":1,\"fTextFont\":62},\"fDateX\":0.01,\"fDateY\":0.01,\"fEndErrorSize\":2,\"fErrorX\":0.5,\"fFuncColor\":2,\"fFuncStyle\":1,\"fFuncWidth\":2,\"fGridColor\":0,\"fGridStyle\":3,\"fGridWidth\":1,\"fLegendBorderSize\":1,\"fLegendFillColor\":0,\"fLegendFont\":42,\"fLegendTextSize\":0,\"fHatchesLineWidth\":1,\"fHatchesSpacing\":1,\"fFrameFillColor\":0,\"fFrameLineColor\":1,\"fFrameFillStyle\":1001,\"fFrameLineStyle\":1,\"fFrameLineWidth\":1,\"fFrameBorderSize\":1,\"fFrameBorderMode\":0,\"fHistFillColor\":0,\"fHistLineColor\":602,\"fHistFillStyle\":1001,\"fHistLineStyle\":1,\"fHistLineWidth\":1,\"fHistMinimumZero\":false,\"fHistTopMargin\":0.05,\"fCanvasPreferGL\":false,\"fCanvasColor\":0,\"fCanvasBorderSize\":2,\"fCanvasBorderMode\":0,\"fCanvasDefH\":500,\"fCanvasDefW\":700,\"fCanvasDefX\":10,\"fCanvasDefY\":10,\"fPadColor\":0,\"fPadBorderSize\":2,\"fPadBorderMode\":0,\"fPadBottomMargin\":0.1,\"fPadTopMargin\":0.1,\"fPadLeftMargin\":0.1,\"fPadRightMargin\":0.1,\"fPadGridX\":false,\"fPadGridY\":false,\"fPadTickX\":0,\"fPadTickY\":0,\"fPaperSizeX\":20,\"fPaperSizeY\":26,\"fScreenFactor\":1,\"fStatColor\":0,\"fStatTextColor\":1,\"fStatBorderSize\":1,\"fStatFont\":42,\"fStatFontSize\":0,\"fStatStyle\":1001,\"fStatFormat\":\"6.4g\",\"fStatX\":0.98,\"fStatY\":0.935,\"fStatW\":0.2,\"fStatH\":0.16,\"fStripDecimals\":true,\"fTitleAlign\":23,\"fTitleColor\":0,\"fTitleTextColor\":1,\"fTitleBorderSize\":0,\"fTitleFont\":42,\"fTitleFontSize\":0.05,\"fTitleStyle\":0,\"fTitleX\":0.5,\"fTitleY\":0.995,\"fTitleW\":0,\"fTitleH\":0,\"fLegoInnerR\":0.5,\"fLineStyles\":[\"\",\"  \",\" 12 12\",\" 4 8\",\" 12 16 4 16\",\" 20 12 4 12\",\" 20 12 4 12 4 12 4 12\",\" 20 20\",\" 20 12 4 12 4 12\",\" 80 20\",\" 80 40 4 40\",\"  \",\"  \",\"  \",\"  \",\"  \",\"  \",\"  \",\"  \",\"  \",\"  \",\"  \",\"  \",\"  \",\"  \",\"  \",\"  \",\"  \",\"  \",\"  \"],\"fHeaderPS\":\"\",\"fTitlePS\":\"\",\"fFitFormat\":\"5.4g\",\"fPaintTextFormat\":\"g\",\"fLineScalePS\":3,\"fJoinLinePS\":0,\"fCapLinePS\":0,\"fTimeOffset\":788918400,\"fImageScaling\":1}],\"opt\":[\"\",\"\",\"blNDC\",\"sames\",\"\"]},\"fExecs\":null,\"fName\":\"Canvas\",\"fTitle\":\"c\",\"fNumPaletteColor\":0,\"fNextPaletteColor\":0,\"fDISPLAY\":\"$DISPLAY\",\"fDoubleBuffer\":0,\"fRetained\":true,\"fXsizeUser\":0,\"fYsizeUser\":0,\"fXsizeReal\":20,\"fYsizeReal\":15,\"fWindowTopX\":0,\"fWindowTopY\":0,\"fWindowWidth\":0,\"fWindowHeight\":0,\"fCw\":796,\"fCh\":572,\"fCatt\":{\"_typename\":\"TAttCanvas\",\"fXBetween\":2,\"fYBetween\":2,\"fTitleFromTop\":1.2,\"fXdate\":0.2,\"fYdate\":0.3,\"fAdate\":1},\"kMoveOpaque\":true,\"kResizeOpaque\":true,\"fHighLightColor\":2,\"fBatch\":true,\"kShowEventStatus\":false,\"kAutoExec\":true,\"kMenuBar\":true});\n",
       "   Core.settings.HandleKeys = false;\n",
       "   Core.draw(\"root_plot_1682410591127\", obj, \"\");\n",
       "}\n",
       "\n",
       "function script_load_root_plot_1682410591127(src, on_error) {\n",
       "    let script = document.createElement('script');\n",
       "    script.src = src;\n",
       "    script.onload = function() { display_root_plot_1682410591127(JSROOT); };\n",
       "    script.onerror = function() { script.remove(); on_error(); };\n",
       "    document.head.appendChild(script);\n",
       "}\n",
       "\n",
       "if (typeof requirejs !== 'undefined') {\n",
       "\n",
       "    // We are in jupyter notebooks, use require.js which should be configured already\n",
       "    requirejs.config({\n",
       "       paths: { 'JSRootCore' : [ 'scripts/JSRoot.core', 'https://root.cern/js/6.1.1/scripts/JSRoot.core.min', 'https://jsroot.gsi.de/6.1.1/scripts/JSRoot.core.min' ] }\n",
       "    })(['JSRootCore'],  function(Core) {\n",
       "       display_root_plot_1682410591127(Core);\n",
       "    });\n",
       "\n",
       "} else if (typeof JSROOT !== 'undefined') {\n",
       "\n",
       "   // JSROOT already loaded, just use it\n",
       "   display_root_plot_1682410591127(JSROOT);\n",
       "\n",
       "} else {\n",
       "\n",
       "    // We are in jupyterlab without require.js, directly loading jsroot\n",
       "    // Jupyterlab might be installed in a different base_url so we need to know it.\n",
       "    try {\n",
       "        var base_url = JSON.parse(document.getElementById('jupyter-config-data').innerHTML).baseUrl;\n",
       "    } catch(_) {\n",
       "        var base_url = '/';\n",
       "    }\n",
       "\n",
       "    // Try loading a local version of requirejs and fallback to cdn if not possible.\n",
       "    script_load_root_plot_1682410591127(base_url + 'static/scripts/JSRoot.core.js', function(){\n",
       "        console.error('Fail to load JSROOT locally, please check your jupyter_notebook_config.py file');\n",
       "        script_load_root_plot_1682410591127('https://root.cern/js/6.1.1/scripts/JSRoot.core.min.js', function(){\n",
       "            document.getElementById(\"root_plot_1682410591127\").innerHTML = \"Failed to load JSROOT\";\n",
       "        });\n",
       "    });\n",
       "}\n",
       "\n",
       "</script>\n"
      ],
      "text/plain": [
       "<IPython.core.display.HTML object>"
      ]
     },
     "metadata": {},
     "output_type": "display_data"
    }
   ],
   "source": [
    "canvas.Draw()"
   ]
  },
  {
   "cell_type": "markdown",
   "id": "837135d1",
   "metadata": {},
   "source": [
    "# **Questions:** \n",
    "### **1) How can we improve the fitting procedure of the Z mass resonance?** \n",
    "### **2) Which is the meaning of the width of a mass resonance?** \n",
    "### **<font color='red'>Homework</font>: Compare the width to what is expected for the Z boson resonance width based on its lifetime** "
   ]
  }
 ],
 "metadata": {
  "kernelspec": {
   "display_name": "Python 3 (ipykernel)",
   "language": "python",
   "name": "python3"
  },
  "language_info": {
   "codemirror_mode": {
    "name": "ipython",
    "version": 3
   },
   "file_extension": ".py",
   "mimetype": "text/x-python",
   "name": "python",
   "nbconvert_exporter": "python",
   "pygments_lexer": "ipython3",
   "version": "3.10.4"
  }
 },
 "nbformat": 4,
 "nbformat_minor": 5
}
