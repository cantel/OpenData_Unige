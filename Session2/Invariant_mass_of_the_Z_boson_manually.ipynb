{
 "cells": [
  {
   "cell_type": "markdown",
   "id": "37288de8",
   "metadata": {},
   "source": [
    "# Session 2 : Find the invariant mass of the Z boson!\n",
    "\n",
    "## Welcome to the Session 2 !\n",
    "This notebook uses ATLAS Open Data http://opendata.atlas.cern to show you the steps to find and calculate the mass of the Z boson decaying to two leptons of same flavour (either electron or muon) and opposite charge.<br>"
   ]
  },
  {
   "cell_type": "markdown",
   "id": "c956d123",
   "metadata": {},
   "source": [
    "Example of a Z boson decaying to two electrons: <CENTER><img src=\"images/Z_ElectronPositron.png\" style=\"width:40%\"></CENTER>"
   ]
  },
  {
   "cell_type": "markdown",
   "id": "f2fa03a4",
   "metadata": {},
   "source": [
    "**By the end of this notebook you will be able to:**\n",
    "1. Work using the ROOT dataframe (pyROOT)\n",
    "2. Manipulate the data and find the Z boson by yourself by applying relevant event selections \n",
    "3. Calculate the Z invariant mass by hand\n",
    "4. Plot the Z invariant mass\n",
    "5. Perform a fit on the mass\n",
    "\n",
    "The whole notebook takes less that an hour to follow through!"
   ]
  },
  {
   "cell_type": "markdown",
   "id": "6b2be533",
   "metadata": {},
   "source": [
    "## pyROOT\n",
    "The library used is ROOT - a scientific software framework that provides all the functionalities needed to deal with big data processing, statistical analysis, visualization and storage.<br>\n",
    "\n",
    "First of all, ROOT is imported to read the files in the .root data format.<br>\n",
    "\n",
    "**Reminder from previous season:** A .root file consists of a tree having branches and leaves.<br>\n",
    "\n",
    "At this point you could also import further programs that contain other formulas that you maybe use more often. But here we don't import other programs for the sake of simplicity:"
   ]
  },
  {
   "cell_type": "code",
   "execution_count": null,
   "id": "4840d386",
   "metadata": {
    "scrolled": true
   },
   "outputs": [],
   "source": [
    "import ROOT"
   ]
  },
  {
   "cell_type": "markdown",
   "id": "5d7b9fcd",
   "metadata": {},
   "source": [
    "To increase flexibility during this session, we can directly access a significant module from ROOT, namely **TMath**. TMath offers a wide range of mathematical functions and operations that we will use extensively:"
   ]
  },
  {
   "cell_type": "code",
   "execution_count": null,
   "id": "8537eee5",
   "metadata": {},
   "outputs": [],
   "source": [
    "from ROOT import TMath"
   ]
  },
  {
   "cell_type": "markdown",
   "id": "dfbf80ac",
   "metadata": {},
   "source": [
    "In order to activate visualisation of the histogram that is later created we can use the JSROOT magic:"
   ]
  },
  {
   "cell_type": "code",
   "execution_count": null,
   "id": "49d1c6d1",
   "metadata": {},
   "outputs": [],
   "source": [
    "%jsroot on"
   ]
  },
  {
   "cell_type": "markdown",
   "id": "6353f81e",
   "metadata": {},
   "source": [
    "## Where is my data?"
   ]
  },
  {
   "cell_type": "markdown",
   "id": "51381b0c",
   "metadata": {},
   "source": [
    "Next, we have to open the data that we want to analyze, stored in a *.root file:"
   ]
  },
  {
   "cell_type": "code",
   "execution_count": null,
   "id": "ad4e0405",
   "metadata": {},
   "outputs": [],
   "source": [
    "## CHOOSE here which sample to use!!\n",
    "\n",
    "filename = \"mc_361106.Zee.1largeRjet1lep.root\"\n",
    "url = \"https://atlas-opendata.web.cern.ch/atlas-opendata/samples/2020/1largeRjet1lep/MC/\"\n",
    "f = ROOT.TFile.Open(url+filename)"
   ]
  },
  {
   "cell_type": "markdown",
   "id": "9ad7704f",
   "metadata": {},
   "source": [
    "After the data is opened, we create a canvas on which we can draw a histogram. If we do not have a canvas we cannot see our histogram at the end. Its name is **Canvas** and its header is **c**. The two following arguments define the width and the height of the canvas."
   ]
  },
  {
   "cell_type": "code",
   "execution_count": null,
   "id": "558fb7fa",
   "metadata": {},
   "outputs": [],
   "source": [
    "canvas = ROOT.TCanvas(\"Canvas\", \"c\", 800, 600)"
   ]
  },
  {
   "cell_type": "markdown",
   "id": "3263e766",
   "metadata": {},
   "source": [
    "The next step is to define a tree named **tree** to get the data out of the *.root file:"
   ]
  },
  {
   "cell_type": "code",
   "execution_count": null,
   "id": "bf6e24e0",
   "metadata": {
    "scrolled": true
   },
   "outputs": [],
   "source": [
    "tree = f.Get(\"mini\")\n",
    "tree.GetEntries()"
   ]
  },
  {
   "cell_type": "markdown",
   "id": "2ff385a9",
   "metadata": {},
   "source": [
    "Print-out the variables stored in the tree from the ROOT file and try to understand their meaning:"
   ]
  },
  {
   "cell_type": "code",
   "execution_count": null,
   "id": "5d35144e",
   "metadata": {},
   "outputs": [],
   "source": [
    "tree.Print()"
   ]
  },
  {
   "cell_type": "markdown",
   "id": "3b9f89de",
   "metadata": {},
   "source": [
    "Now, we define a histogram that will later be placed on this canvas. Its name is variable, the header of the histogram is Mass of the Z boson, the x axis is named mass[GeV] and the y axis is name events, The three following arguments indicate that this histogram contains 30 bins which have a range from 40 to 140."
   ]
  },
  {
   "cell_type": "code",
   "execution_count": null,
   "id": "a37ed34d",
   "metadata": {},
   "outputs": [],
   "source": [
    "hist = ROOT.TH1F(\"variable\",\"Mass of the Z boson; mass [GeV]; events\",30,40,140)"
   ]
  },
  {
   "cell_type": "markdown",
   "id": "dbbcfbde",
   "metadata": {},
   "source": [
    "## Calculate the invariant mass!"
   ]
  },
  {
   "cell_type": "markdown",
   "id": "4a36bca5",
   "metadata": {},
   "source": [
    "The **selections** we should require in each event to ensure that the final state contains objects potentially comming from the Z boson are the followings:\n",
    "1. Exactly two leptons\n",
    "2. The two leptons to have opposite charge (the one positive and other negative)\n",
    "3. The two leptons to be from the same family (same flavor). E.g. two electrons or two muons\n",
    "\n",
    "After applying the selections above, the **calculation** of the the invariant mass is done following these steps:\n",
    "1. If the energy of the 2 leptons are lep_E[0] and lep_E[1], write the sum of energy, sumE\n",
    "2. Write the sum of x-momentum, sumpx\n",
    "3. Do the same for y and z momenta (sumpy and sumpz)\n",
    "4. Now you have the x,y,z components sumpx,sumpy and sumpz. The vector **sump** = (sumpx,sumpy and sumpz). Write the magnitute of total momentum, sump.\n",
    "\n",
    "The invariant mass, M, of a parent particle decaying to two daughter particles is related to properties of the daughter particles by the formula:\n",
    "\n",
    "$$M^2 = E^2 - p^2$$\n",
    "\n",
    "where E is the total energy of the daughter particles, and p the magnitute of the vector sum of the momenta of the daughter particles. This is written assuming c=1 (natural units)"
   ]
  },
  {
   "cell_type": "markdown",
   "id": "e2ff395d",
   "metadata": {},
   "source": [
    "Time to fill our histogram defined previously, following the instructions above. At first, we define the aforementioned variables and then we loop over the data:"
   ]
  },
  {
   "cell_type": "code",
   "execution_count": null,
   "id": "76b261fe",
   "metadata": {},
   "outputs": [],
   "source": [
    "## !!! Adjust/Modify/Fill the variables & values on the functions !!!\n",
    "\n",
    "def has_two_leptons(event):\n",
    "    return event.lep_n == \n",
    "\n",
    "def has_opposite_charge_leptons(event):\n",
    "    return event.lep_charge[0] #Fill appropriately the return value (Hint: check printed variables from tree.Print() above)\n",
    "\n",
    "def has_same_family_leptons(event):\n",
    "    return #Fill appropriately the return value \n",
    "\n",
    "def compute_mll(event):\n",
    "    # 0th lepton is [0], next lepton is [1] etc\n",
    "    # get the energy of 0th lepton by lep_E[0]\n",
    "    \n",
    "    #sumE = sum of energy\n",
    "    sumE = \n",
    "\n",
    "    px_leading = event.lep_pt[0]*TMath.Cos(event.lep_phi[0]) # x-momentum of 0th lepton\n",
    "    px_subleading = event.lep_pt[1]*TMath.Cos(event.lep_phi[1]) # x-momentum of 1st lepton\n",
    "\n",
    "    py_leading = event.lep_pt[0]*TMath.Sin(event.lep_phi[0]) # y-momentum of 0th lepton\n",
    "    py_subleading = event.lep_pt[1]*TMath.Sin(event.lep_phi[1]) # y-momentum of 1st lepton\n",
    "\n",
    "    pz_leading = event.lep_pt[0]*TMath.SinH(event.lep_eta[0]) # z-momentum of 0th lepton\n",
    "    pz_subleading = event.lep_pt[1]*TMath.SinH(event.lep_eta[1]) # z-momentum of 1st lepton  \n",
    "\n",
    "    # sumpx = sum of x-momenta\n",
    "    sumpx =\n",
    "    \n",
    "    # sumpy = sum of y-momenta\n",
    "    sumpy = \n",
    "    \n",
    "    # sumpz = sum of z-momenta\n",
    "    sumpz = \n",
    "    \n",
    "    # sump = magnitude of total momentum vector. Note that this is a vector! \n",
    "    sump = # Hint: You can use the TMath.Sqrt() and TMath.Power(x,y) functions - The latter function returns x^y\n",
    "    \n",
    "    # Mll = invariant mass from M^2 = E^2 - p^2. \n",
    "    Mll = #N.B.:The result will be on MeV - Divide by 1000 to go from MeV to GeV\n",
    "\n",
    "    return Mll\n",
    "\n",
    "# Main code\n",
    "for event in tree:\n",
    "    if has_two_leptons(event) and has_opposite_charge_leptons(event) and has_same_family_leptons(event):\n",
    "        Mll = compute_mll(event)\n",
    "        hist.Fill(Mll)"
   ]
  },
  {
   "cell_type": "markdown",
   "id": "86d9621d",
   "metadata": {},
   "source": [
    "After filling the histogram we want to see the results of the analysis. First, we draw the histogram on the canvas and then the canvas on which the histogram lies."
   ]
  },
  {
   "cell_type": "code",
   "execution_count": null,
   "id": "5f211b1f",
   "metadata": {},
   "outputs": [],
   "source": [
    "hist.Draw()\n",
    "hist.SetFillColor(8)  # See more color-codes here: https://root.cern.ch/doc/master/classTAttFill.html"
   ]
  },
  {
   "cell_type": "code",
   "execution_count": null,
   "id": "ed403344",
   "metadata": {},
   "outputs": [],
   "source": [
    "canvas.Draw()"
   ]
  },
  {
   "cell_type": "markdown",
   "id": "0e0bc346",
   "metadata": {},
   "source": [
    "## Fit the histogram"
   ]
  },
  {
   "cell_type": "markdown",
   "id": "11701e57",
   "metadata": {},
   "source": [
    "Now try to fit the mass resonance of the W boson using the \"Fit\" procedure from ROOT. For this we will use the **Breit-Wigner (BW)** Function. The BW function is a probability density function that describes the probability of a particle with a certain mass and width decaying into other particles."
   ]
  },
  {
   "cell_type": "code",
   "execution_count": null,
   "id": "d37f92eb",
   "metadata": {
    "scrolled": false
   },
   "outputs": [],
   "source": [
    "# Define Breit-Wigner function\n",
    "fBW = ROOT.TF1(\"fBW\", \"[0]/((x-[1])*(x-[1])+([2]*[2])/4)\", 60, 120)\n",
    "\n",
    "# Set initial parameter values\n",
    "fBW.SetParameter(0, hist.GetMaximum()) # Overall normalization\n",
    "fBW.SetParameter(1, 91.2) # Mass of the Z boson\n",
    "fBW.SetParameter(2, 2.5)  # Width of the Z boson resonance\n",
    "\n",
    "# Fit histogram with Breit-Wigner function\n",
    "fit_result = hist.Fit(\"fBW\",\"RS\") # R: Range of the fit taken from the definition of the fBW function. S: Sum (least-squares) method to be used for the fit.\n",
    "\n",
    "# Print the fit parameters\n",
    "print(\"Normalization: {}\".format(fBW.GetParameter(0)))\n",
    "print(\"Mass: {}\".format(fBW.GetParameter(1)))\n",
    "print(\"Width: {}\".format(fBW.GetParameter(2)))"
   ]
  },
  {
   "cell_type": "code",
   "execution_count": null,
   "id": "cd447220",
   "metadata": {},
   "outputs": [],
   "source": [
    "fBW.Draw(\"sames\")"
   ]
  },
  {
   "cell_type": "code",
   "execution_count": null,
   "id": "f2fc6a32",
   "metadata": {
    "scrolled": false
   },
   "outputs": [],
   "source": [
    "canvas.Draw()"
   ]
  },
  {
   "cell_type": "markdown",
   "id": "947d0f2b",
   "metadata": {},
   "source": [
    "Extending the range of the y-axis would provide a clearer view of the fitting curve:"
   ]
  },
  {
   "cell_type": "code",
   "execution_count": null,
   "id": "1274fb9d",
   "metadata": {},
   "outputs": [],
   "source": [
    "hist.GetYaxis().SetRangeUser(0, hist.GetMaximum()+0.4*hist.GetMaximum())"
   ]
  },
  {
   "cell_type": "code",
   "execution_count": null,
   "id": "af841b27",
   "metadata": {
    "scrolled": false
   },
   "outputs": [],
   "source": [
    "canvas.Draw()"
   ]
  },
  {
   "cell_type": "markdown",
   "id": "837135d1",
   "metadata": {},
   "source": [
    "# **Questions:** \n",
    "### **1) How can we improve the fitting procedure of the Z mass resonance?** \n",
    "### **2) Which is the meaning of the width of a mass resonance?** \n",
    "### **<font color='red'>Homework</font>: Compare the width to what is expected for the Z boson resonance width based on its lifetime** "
   ]
  }
 ],
 "metadata": {
  "kernelspec": {
   "display_name": "Python 3 (ipykernel)",
   "language": "python",
   "name": "python3"
  },
  "language_info": {
   "codemirror_mode": {
    "name": "ipython",
    "version": 3
   },
   "file_extension": ".py",
   "mimetype": "text/x-python",
   "name": "python",
   "nbconvert_exporter": "python",
   "pygments_lexer": "ipython3",
   "version": "3.10.4"
  }
 },
 "nbformat": 4,
 "nbformat_minor": 5
}
