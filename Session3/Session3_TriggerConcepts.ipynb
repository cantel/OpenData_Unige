{
 "cells": [
  {
   "cell_type": "markdown",
   "id": "dcc4a334",
   "metadata": {
    "id": "dcc4a334"
   },
   "source": [
    "## Trigger Conceps\n",
    "\n",
    "Most particle physics experiments will use a trigger during data acquisition as opposed to streaming out the data continuously. A trigger is a signal that tells the data aquisition system to read out the detector data corresponding to an instance in time (an event) for storage. The latency of a trigger decision is dictated by the buffer size of the system: A trigger decision cannot take longer than the time you can afford to temporarily store the detector data for consecutive events of interests.\n",
    "\n",
    "\n",
    "### Why does ATLAS need a trigger\n",
    "\n",
    "The environment at the proton-proton interaction point is extremely busy: We have up to 60 proton interactions per bunch crossings, and 30 million bunch crossings per second!\n",
    "\n",
    "<img src=\"https://s-media-cache-ak0.pinimg.com/originals/3e/cd/07/3ecd07951c28fd36eee321274c82310a.jpg\" width=\"500\" />\n",
    "\n",
    "ATLAS needs a way to be _highly selective_ of the events of interest to keep: Without a trigger system we would need to find a way to record > 40 TB of data per second! \n",
    "\n",
    "### What does the trigger select?\n",
    "\n",
    "\"Highly selective\" often simply means a requirement of an event to contain reconstructed particles with transverse momentum or energy, $p_T$ or $E_T$, above a certain threshold.\n",
    "\n",
    "**Why?** This is because the $p_T$/$E_T$ distribution of background particles is exponentially falling:\n",
    "<img src=\"http://opendata.atlas.cern/release/2020/documentation/8TeVDoc/pictures/Output/jet_pt.jpg\" width=\"500\" />\n",
    "Meaning:\n",
    "- Energetic events (in transverse plane) are more interesting because of the lower background rate.\n",
    "- The $p_T$ threshold is an easy way to controlling trigger rates with intensifying LHC conditions.\n",
    "    \n",
    " > **It does not mean there is no interesting physics below threshold! It is just much more challenging to look there.**\n",
    "\n",
    "Beside a requirement on the minimum $p_T$, a trigger selection can also require:\n",
    "- A certain multiplicity of objects, e.g. 4 hadronic jets with $p_T$ > 100 GeV.\n",
    "- Additional requirements on particle characteristic, e.g. minimum of 2 hadronic jets that have an 85% probability of being initiated by a bottom quark (\"b-tagging\").\n",
    "- And even requirements on the event topology, e.g. a requirement of two jets with a high combined invariant mass.\n",
    "\n",
    "In reality, we have 100s of trigger selections that run parallel, deciding separately what events to keep. \n",
    "\n",
    "\n",
    "### The impact of triggers on physics analysis\n",
    "\n",
    "Beside irrevocably determing which events are stored for an analysis, the decision also impacts the sensitivity of your analysis.\n",
    "The latter is not only because it will dictate the energy threshold of leading particles in your events for analysis! As already stated, the triggers are required to make a decision within a certain amount of time. This gives them limited amount of time to reconstruct particles to base the decisions on, meaning we will not reconstruct particles as precisely online as we would in stored data. In addition, refinements such as calibration constants and detector alignments can be done later on on offline stored data, which may again deteriote the online reconstruction performance with respect to offline reconstruction performance.\n",
    "\n",
    "There are therefore two important concepts related to trigger and your physics analysis:\n",
    "* *Important Trigger Concept 1*: Because of our highly selective trigger, our dataset is heavily biased. When analysing data, the very first step is to choose the trigger that is most appropriate for your physics analysis (the one that has the largest acceptance for your signal) and then filter the data based on whether that trigger fired.\n",
    "* *Important Trigger Concept 2*: Your selection of physics events will depend on the trigger selection _and_ selection efficiency when the data was taken: Electrons reconstructed more precisely offline may not have had the same measured $p_T$ online, nor have even been correctly identified as an electron.\n",
    "\n",
    "\n",
    "### Measuring trigger efficiencies\n",
    "\n",
    "We usually measure the trigger efficiency via \"**trigger efficiency turn-on curves**\". Turn-on curves simply measure the number of events kept by the trigger/total number of events$^*$ for events containing your signal, as a function of one of the variables used in the trigger selection, usually the $p_T$ of the reconstructed particles.\n",
    "\n",
    "\n",
    "So let's first get to grips with the concept of trigger turn-ons.\n",
    "\n",
    "\n",
    "$^*$_By the way, you may ask how do we know the total number of events if they were not triggered by our chosen trigger? What are your ideas?_\n",
    "\n",
    "\n",
    "\n",
    "\n"
   ]
  },
  {
   "cell_type": "markdown",
   "id": "85bab724",
   "metadata": {},
   "source": [
    "# Exercise 1: Emulating a single jet trigger\n",
    "\n",
    "For the first exercise, we will be emulating a simple jet trigger by generating the momentum spectra of online and offline reconstructed jets. This allows us to study the performance of the trigger in detail: What impacts the trigger performance?"
   ]
  },
  {
   "cell_type": "code",
   "execution_count": 1,
   "id": "55b0cee5",
   "metadata": {
    "id": "55b0cee5"
   },
   "outputs": [],
   "source": [
    "import numpy\n",
    "import matplotlib.pyplot as plt"
   ]
  },
  {
   "cell_type": "code",
   "execution_count": null,
   "id": "52e17660",
   "metadata": {
    "id": "52e17660"
   },
   "outputs": [],
   "source": [
    "#%matplotlib notebook"
   ]
  },
  {
   "cell_type": "code",
   "execution_count": 2,
   "id": "ae0c9ccc",
   "metadata": {
    "colab": {
     "base_uri": "https://localhost:8080/",
     "height": 449
    },
    "id": "ae0c9ccc",
    "outputId": "cb911efb-68a5-4f4a-908f-ec28167fc041"
   },
   "outputs": [
    {
     "data": {
      "image/png": "[encoded data removed]",
      "text/plain": [
       "<Figure size 432x288 with 1 Axes>"
      ]
     },
     "metadata": {
      "needs_background": "light"
     },
     "output_type": "display_data"
    }
   ],
   "source": [
    "# A trigger turn-on emulator for a jet trigger\n",
    "\n",
    "## First we generate (our exponentially falling pT) spectrum for the offline reconstructed leading jet\n",
    "\n",
    "col_off = 'darkblue'\n",
    "col_on = 'darkred'\n",
    "col_off_kept = 'green'\n",
    "\n",
    "samples=int(1e5)\n",
    "\n",
    "offline_jets_pt = 100*numpy.random.exponential(scale=1, size=samples)\n",
    "## cut out jets below zero\n",
    "\n",
    "# --- histogram settings --- \n",
    "bin_width = 5 # GeV\n",
    "h_min = 0\n",
    "h_max = 400\n",
    "bins = int((h_max-h_min)/bin_width)\n",
    "\n",
    "plt.hist(offline_jets_pt,bins=bins, range=[h_min,h_max], alpha=0.5, color=col_off)\n",
    "\n",
    "## We then generated the pT spectrum of the online reconstructed leading jets\n",
    "## Online reconstruction is not the same as offline due to resolution differences! We'll quantify the \n",
    "## the difference between online and offline jets via a resolution parameter, sigma.\n",
    "\n",
    "sigma = 5.\n",
    "gauss = numpy.random.normal(loc=0,scale=sigma, size=samples)\n",
    "\n",
    "online_jets_pt = offline_jets_pt + gauss\n",
    "\n",
    "plt.hist(offline_jets_pt,bins=bins, range=[h_min,h_max], alpha=0.5, color=col_off)\n",
    "plt.hist(online_jets_pt,bins=bins, range=[h_min,h_max], alpha=0.5, color=col_on)\n",
    "\n",
    "plt.ylabel(f\"events/{bin_width} GeV\")\n",
    "plt.xlabel(\"jet pT [GeV]\")\n",
    "plt.show()"
   ]
  },
  {
   "cell_type": "code",
   "execution_count": 26,
   "id": "f5f18138",
   "metadata": {
    "colab": {
     "base_uri": "https://localhost:8080/",
     "height": 449
    },
    "id": "f5f18138",
    "outputId": "7bfa260f-d4a4-4b33-a5f9-9154d9d7cdf8"
   },
   "outputs": [
    {
     "data": {
      "image/png": "[encoded data removed]",
      "text/plain": [
       "<Figure size 864x288 with 2 Axes>"
      ]
     },
     "metadata": {
      "needs_background": "light"
     },
     "output_type": "display_data"
    },
    {
     "name": "stdout",
     "output_type": "stream",
     "text": [
      "standard deviation of distribution = 5.0 GeV\n"
     ]
    }
   ],
   "source": [
    "## Now we plot the online vs offline response.\n",
    "## This should have a spread determined by our sigma set above.\n",
    "\n",
    "fig, (ax1, ax2) = plt.subplots(1, 2)\n",
    "fig.set_size_inches(12,4)\n",
    "\n",
    "pt_ratio = online_jets_pt/offline_jets_pt\n",
    "pt_diff = online_jets_pt-offline_jets_pt\n",
    "\n",
    "ax1.hist(pt_diff, bins=100, range=[-20,20])\n",
    "ax1.set_ylabel(f\"count/bin\")\n",
    "ax1.set_xlabel(\"online jet pT - offline jet pT [GeV]\")\n",
    "ax2.hist(pt_ratio, bins=100, range=[-0.5,1.5])\n",
    "ax2.set_ylabel(f\"count/bin\")\n",
    "ax2.set_xlabel(\"online jet pT/offline jet pT [GeV]\")\n",
    "plt.show()\n",
    "\n",
    "print(\"standard deviation of distribution = %.1f GeV\"%(pt_diff.std()))"
   ]
  },
  {
   "cell_type": "code",
   "execution_count": 27,
   "id": "40027bcd",
   "metadata": {
    "colab": {
     "base_uri": "https://localhost:8080/",
     "height": 486
    },
    "id": "40027bcd",
    "outputId": "896e320f-9325-4081-83d5-d84a347dec5e"
   },
   "outputs": [
    {
     "name": "stdout",
     "output_type": "stream",
     "text": [
      "Minimum offline jet pT:  133.1700364964153\n",
      "Maximum offline jet pT:  1492.4783182402612\n"
     ]
    },
    {
     "data": {
      "image/png": "[encoded data removed]",
      "text/plain": [
       "<Figure size 432x288 with 1 Axes>"
      ]
     },
     "metadata": {
      "needs_background": "light"
     },
     "output_type": "display_data"
    }
   ],
   "source": [
    "## Finally we emulate the trigger selection:\n",
    "\n",
    "## trigger function\n",
    "apply_trigger = lambda x, t: x>t  # is x over threshold\n",
    "\n",
    "\n",
    "threshold = 150. # GeV\n",
    "\n",
    "# we check if online jet is above trigger threshold\n",
    "triggered_events = apply_trigger(online_jets_pt, threshold)  \n",
    "\n",
    "# we get the offline jets for events in which the trigger fired\n",
    "offline_jets_pt_kept = offline_jets_pt[triggered_events]     \n",
    " \n",
    "print(\"Minimum offline jet pT: \", offline_jets_pt_kept.min())\n",
    "print(\"Maximum offline jet pT: \", offline_jets_pt_kept.max())\n",
    "\n",
    "\n",
    "plt.hist(offline_jets_pt,bins=bins, range=[h_min,h_max], alpha=0.5, color=col_off)\n",
    "plt.hist(offline_jets_pt_kept,bins=bins, range=[h_min,h_max], alpha=0.5, color=col_off_kept)\n",
    "\n",
    "plt.ylabel(f\"events/{bin_width} GeV\")\n",
    "plt.xlabel(\"jet pT [GeV]\")\n",
    "plt.show()"
   ]
  },
  {
   "cell_type": "code",
   "execution_count": 28,
   "id": "5ed95714",
   "metadata": {
    "colab": {
     "base_uri": "https://localhost:8080/",
     "height": 449
    },
    "id": "5ed95714",
    "outputId": "b1f3c42e-8fae-4b90-e8aa-45723727c509"
   },
   "outputs": [
    {
     "data": {
      "image/png": "[encoded data removed]",
      "text/plain": [
       "<Figure size 432x288 with 1 Axes>"
      ]
     },
     "metadata": {
      "needs_background": "light"
     },
     "output_type": "display_data"
    }
   ],
   "source": [
    "# Now we plot our trigger turn-on: We plot triggered events/total events per bin. \n",
    "\n",
    "cnt_total,edges = numpy.histogram(offline_jets_pt, bins=bins, range=[h_min,h_max])\n",
    "cnt_kept,edges = numpy.histogram(offline_jets_pt_kept, bins=bins, range=[h_min,h_max])\n",
    "\n",
    "eff = cnt_kept/cnt_total\n",
    "centered_pt = (edges+bin_width*0.5)[:-1] # recompute bin edges to plot center of pT bin vs efficiency\n",
    "\n",
    "plt.plot(centered_pt, eff, marker=\".\")\n",
    "\n",
    "plt.xlim(threshold*0.5-sigma, threshold*1.5+sigma)\n",
    "plt.axvline(threshold,0,1.0, linestyle='--', color='darkred')\n",
    "plt.axhline(1.0,0,threshold*1.5+sigma,linestyle='--', color='darkorange')\n",
    "\n",
    "\n",
    "plt.ylabel(f\"Trigger efficiency\")\n",
    "plt.xlabel(\"offline jet pT [GeV]\")\n",
    "plt.show()"
   ]
  },
  {
   "cell_type": "markdown",
   "id": "g1-aGesD67_J",
   "metadata": {
    "id": "g1-aGesD67_J"
   },
   "source": [
    "## Measuring jet trigger performance\n",
    "\n",
    "You can see that\n",
    "\n",
    "(1) The trigger turn-on is not a step function at threshold: There is a gradual turn on of the trigger efficiency, reaching 100% after the trigger threshold.\n",
    "\n",
    "(2) We eventually reach 100% trigger efficiency once the offline jet pT is high enough.\n",
    "\n",
    "Analysis using hadronic jets typically ensure that they are working in a region where the trigger is almost 100% efficient, by simply selecting events where the leading offline jet pT is greater than the point where the trigger turn-on curve reaches 99%. This means, events collected below the 99% turn-on point are wasted rate. \n",
    "\n",
    "One can measure the performance of the trigger by (1) measuring the jet pT @ 99% turn-on and (2) measuring the fraction of events that are wasted. \n",
    "A good trigger will have a 99% turn-on that is close to threshold, and as little"
   ]
  },
  {
   "cell_type": "code",
   "execution_count": null,
   "id": "t0Mfb--I6-k8",
   "metadata": {
    "colab": {
     "base_uri": "https://localhost:8080/"
    },
    "id": "t0Mfb--I6-k8",
    "outputId": "2eb2b789-3ddc-445a-8e7a-9d3b7c85b5e4"
   },
   "outputs": [],
   "source": [
    "## Measuring jet trigger performance\n",
    "\n",
    "pt_at_99 = centered_pt[eff>=0.99][0]\n",
    "total_events_triggered = offline_jets_pt_kept.size\n",
    "total_events_for_physics = offline_jets_pt_kept[offline_jets_pt_kept>=pt_at_99].size\n",
    "wasted_frac = (total_events_triggered-total_events_for_physics)/total_events_triggered\n",
    "\n",
    "print(\"99%% trigger efficiency @ jet pT = %i GeV \"%(pt_at_99))\n",
    "print(\"Number of triggered events = \", total_events_triggered)\n",
    "print(\"Number of events for analysis = \", total_events_for_physics)\n",
    "print(\"fraction of wasted events = %.2f\"%(wasted_frac))"
   ]
  },
  {
   "cell_type": "code",
   "execution_count": null,
   "id": "8SPC8LUpCplP",
   "metadata": {
    "colab": {
     "base_uri": "https://localhost:8080/"
    },
    "id": "8SPC8LUpCplP",
    "outputId": "f2c8bd14-1cf2-4b3e-e331-bf79a0756f75"
   },
   "outputs": [],
   "source": [
    "## Measuring jet trigger performance\n",
    "\n",
    "pt_at_99 = centered_pt[eff>=0.99][0]\n",
    "total_events_triggered = offline_jets_pt_kept.size\n",
    "total_events_for_physics = offline_jets_pt_kept[offline_jets_pt_kept>=pt_at_99].size\n",
    "wasted_frac = (total_events_triggered-total_events_for_physics)/total_events_triggered\n",
    "\n",
    "print(\"99%% trigger efficiency @ jet pT = %i GeV \"%(pt_at_99))\n",
    "print(\"Number of triggered events = \", total_events_triggered)\n",
    "print(\"Number of events for analysis = \", total_events_for_physics)\n",
    "print(\"fraction of wasted events = %.2f\"%(wasted_frac))"
   ]
  },
  {
   "cell_type": "markdown",
   "id": "43779a38",
   "metadata": {},
   "source": [
    "# Exercise: Measuring the performance of a single lepton trigger \n",
    "\n",
    "Next we will do the same thing, but for a single electron trigger and using open data: Specifically a Monte-Carlo sample that contains a decay of a top and an anti-top quark which each decay leptonically (muons or electrons)."
   ]
  },
  {
   "cell_type": "code",
   "execution_count": null,
   "id": "f796c028",
   "metadata": {},
   "outputs": [],
   "source": [
    "%jsroot on"
   ]
  },
  {
   "cell_type": "code",
   "execution_count": null,
   "id": "KlzVoAUWI85c",
   "metadata": {
    "id": "KlzVoAUWI85c"
   },
   "outputs": [],
   "source": [
    "import ROOT\n",
    "\n",
    "base_url = \"https://atlas-opendata.web.cern.ch/atlas-opendata/samples/2020/2lep/MC/\"\n",
    "input_file =  \"mc_410000.ttbar_lep.2lep.root\"\n",
    "tree_name = \"mini\" # event \"tree\" in which information of each event in the data set are defined:\n",
    "                   # event level information, particles and their properties\n",
    "\n",
    "# function to retrieve the data from an input file.\n",
    "#events = uproot.open(f\"{base_url}/{input_file}:{tree_name}\")\n",
    "#events.show()\n",
    "\n",
    "infile = ROOT.TFile.Open(f\"{base_url}/{input_file}\")\n",
    "tree = infile.Get(\"mini\")\n",
    "tree.GetEntries()"
   ]
  },
  {
   "cell_type": "code",
   "execution_count": null,
   "id": "TToFwf6VOJI2",
   "metadata": {
    "id": "TToFwf6VOJI2"
   },
   "outputs": [],
   "source": [
    "#list_of_variables = ['photon_pt', 'photon_eta', 'photon_phi','scaleFactor_PhotonTRIGGER', 'trigP', 'photon_n', 'photon_trigMatched' ]  # <-- ADD YOUR VARIABLES HERE\n",
    "#list_of_variables = ['lep_pt', 'lep_eta', 'lep_phi','scaleFactor_LepTRIGGER', 'trigE', 'lep_n', 'lep_trigMatched', 'lep_type', 'trigM' ]  # <-- ADD YOUR VARIABLES HERE\n",
    "#max_events = 100000\n",
    "#event_info = events.arrays(list_of_variables, library=\"np\", entry_stop=max_events) \n",
    "\n",
    "tree.Print()"
   ]
  },
  {
   "cell_type": "code",
   "execution_count": null,
   "id": "41389de9",
   "metadata": {},
   "outputs": [],
   "source": [
    "canvas = ROOT.TCanvas(\"Canvas\", \"c\", 800, 600)\n",
    "\n",
    "# --- histogram settings --- \n",
    "bin_width = 5 # GeV\n",
    "h_min = 0\n",
    "h_max = 200\n",
    "bins = int((h_max-h_min)/bin_width)\n",
    "\n",
    "h_total = ROOT.TH1F(\"h_total\",\"offline electron pT spectrum; leading offline electron pT [GeV]; events\",bins,h_min,h_max)\n",
    "h_triggered = ROOT.TH1F(\"h_triggered\",\"triggered offline electron pT spectrum; leading offline electron pT [GeV]; events\",bins,h_min,h_max)\n",
    "\n",
    "h_total.SetLineWidth(2)\n",
    "h_total.SetLineColor(ROOT.kBlue+2)\n",
    "h_triggered.SetLineWidth(2)\n",
    "h_triggered.SetLineColor(ROOT.kOrange+1)"
   ]
  },
  {
   "cell_type": "code",
   "execution_count": null,
   "id": "23589408",
   "metadata": {},
   "outputs": [],
   "source": [
    "\n",
    "# Loop through all events: Distinguish between \n",
    "# leading electrons from electron triggered events (trigE == True) \n",
    "# and leading electrons in all events.\n",
    "\n",
    "GeV = 1e-3\n",
    "\n",
    "max_events = 200000\n",
    "\n",
    "for evt_idx, event in enumerate(tree):\n",
    "    for l_idx in range(event.lep_n):\n",
    "        if abs(event.lep_type[l_idx]) == 11:  # 11 is for electron/positron\n",
    "            electron_pt = event.lep_pt[l_idx]*GeV\n",
    "            if event.trigE:\n",
    "                h_triggered.Fill(electron_pt)\n",
    "            h_total.Fill(electron_pt)\n",
    "            break # only interested in leading electron\n",
    "    if evt_idx > max_events: break\n"
   ]
  },
  {
   "cell_type": "code",
   "execution_count": null,
   "id": "bcee80bc",
   "metadata": {},
   "outputs": [],
   "source": [
    "h_total.Draw()\n",
    "h_triggered.Draw(\"SAME\")\n",
    "canvas.Draw()"
   ]
  },
  {
   "cell_type": "code",
   "execution_count": null,
   "id": "0b012e62",
   "metadata": {},
   "outputs": [],
   "source": [
    "xmax = 100\n",
    "\n",
    "## Compute ratio of \"triggered\" vs \"total\" electrons/pT bin\n",
    "eff = ROOT.TEfficiency(h_triggered, h_total)\n",
    "eff.SetLineWidth(2)\n",
    "\n",
    "\n",
    "## Draw line to indicate trigger threshold\n",
    "threshold = 26 # GEV\n",
    "trig_line = ROOT.TLine(26,0,26,1.0)\n",
    "trig_line.SetLineColor(ROOT.kRed-2)\n",
    "trig_line.SetLineWidth(2)\n",
    "trig_line.SetLineStyle(2)\n",
    "\n",
    "## Draw line to indicate 100% trigger efficiency\n",
    "eff_line = ROOT.TLine(0,1.0,xmax,1.0)\n",
    "eff_line.SetLineColor(ROOT.kOrange+1)\n",
    "eff_line.SetLineWidth(2)\n",
    "eff_line.SetLineStyle(2)\n",
    "\n",
    "eff.Draw()\n",
    "eff_line.Draw()\n",
    "trig_line.Draw()\n",
    "canvas.Draw()\n",
    "\n",
    "eff.GetPaintedGraph().GetXaxis().SetRangeUser(0,100)\n",
    "#eff.GetPaintedGraph().GetYaxis().SetRangeUser(0.8,1)\n",
    "canvas.Draw()"
   ]
  },
  {
   "attachments": {},
   "cell_type": "markdown",
   "id": "320b7f76",
   "metadata": {
    "id": "FXvtELp2QfmZ"
   },
   "source": [
    " ### What do we observe?\n",
    " \n",
    " This matches more or less the officially measured ATLAS trigger efficiency for the 26 GeV single electron trigger:\n",
    " \n",
    " <img src=\"https://twiki.cern.ch/twiki/pub/AtlasPublic/EgammaTriggerPublicResults/plot_Et_e24_lhvloose_nod0_L1EM20VH_ProbeLooseAndBLayerLLH_d0z0_DataDriven_Rel21_Smooth_vTest_LooseAndBLayerLLH_d0z0_DataDriven_Rel21_Smooth_vTest_LHCC_Sep2017.png\" width=\"500\" />\n",
    " \n",
    " \n",
    " **Question**: How does this curve look different to the jet trigger turn-ons? Why is it different?\n"
   ]
  },
  {
   "cell_type": "code",
   "execution_count": null,
   "id": "0ca4c488",
   "metadata": {},
   "outputs": [],
   "source": []
  }
 ],
 "metadata": {
  "colab": {
   "provenance": []
  },
  "kernelspec": {
   "display_name": "Python 3",
   "language": "python",
   "name": "python3"
  },
  "language_info": {
   "codemirror_mode": {
    "name": "ipython",
    "version": 3
   },
   "file_extension": ".py",
   "mimetype": "text/x-python",
   "name": "python",
   "nbconvert_exporter": "python",
   "pygments_lexer": "ipython3",
   "version": "3.9.12"
  }
 },
 "nbformat": 4,
 "nbformat_minor": 5
}
