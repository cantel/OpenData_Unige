{
 "cells": [
  {
   "cell_type": "markdown",
   "id": "37288de8",
   "metadata": {},
   "source": [
    "# Session 4 : Reconstruction of W mass from leptonic decays\n",
    "\n",
    "## Welcome to the Session 4 !"
   ]
  },
  {
   "cell_type": "markdown",
   "id": "54c5d335",
   "metadata": {},
   "source": [
    "$W$ bosons are produced abudantly at the LHC and the measurements of the inclusive production cross section of the $W$ bosons and of the asymmetry between the $W^+$ and $W^-$ cross sections constitute important tests of the SM. In addition, W+jets processes are a significant background to studies of SM processes such as single-top production, top-quark pair ($t\\bar{t}$) as well as searches for the SM Higgs boson and for BSM physics.\n",
    "\n",
    "The analysis presented is focused on implementing the selection criteria for $W^{\\pm}\\rightarrow\\ell^{\\pm}\\nu$ leptonic decays (with $\\ell = e$ or $\\mu$), and the selection is loosely based on the W-boson production cross-section measurement carried out with early $\\sqrt{s}$ = 13 TeV **Real Data** with the ATLAS detector."
   ]
  },
  {
   "cell_type": "markdown",
   "id": "5a07fa92",
   "metadata": {},
   "source": [
    "Example of a W boson decaying to an electron and a neutrino:\n",
    "<img src=\"https://atlas.physicsmasterclasses.org/zpath_files/img/highslide/feynman/Wminus_Elektron.png\" width=\"500\" />"
   ]
  },
  {
   "cell_type": "markdown",
   "id": "04508d7f",
   "metadata": {},
   "source": [
    "The difficulty of reconstucting the $W$ boson that decays into two leptons is the **unknown neutrino momentum vector**. The only observable that can be measured in a hadron collider is the missing transverse energy $\\not\\!\\!E_T$$^*$. Besides, the direction of $\\not\\!\\!E_T$ in the $x, y$-plane can be recontructed.\n",
    "\n",
    "In good approximation, the $\\not\\!\\!E_T$ can be considered to be the transverse energy of the neutrino.\n",
    "\n",
    "$^*$_The missing transverse momentum in the event is defined as the negative vector sum of the $p_T$ of reconstructed and calibrated objects in the event._"
   ]
  },
  {
   "cell_type": "markdown",
   "id": "c5d54ebf",
   "metadata": {},
   "source": [
    "## Event selection criteria and mass calculation\n",
    "\n",
    "### Selection criteria\n",
    "To initiate the reconstruction of the transverse mass of the W boson, the standard selection criteria to consider are:\n",
    "\n",
    "**1. Single-electron or single-muon trigger satisfied**\n",
    "\n",
    "**2. Exactly one light lepton (electron or muon) with $p_T$ > 35 GeV** <br>\n",
    "**<font color='red'>Question</font>: Why such a $p_T$ threshold is important in our case?**\n",
    "\n",
    "**3. Missing transverse momentum larger than 30 GeV**\n",
    "\n",
    "**4. Additional requirements should be placed on the calorimeter$^{**}$ and tracking$^{***}$ isolation of electrons and muons: <font color='red'>< 0.1 for both</font>**<br>\n",
    "     **<font color='red'>Question</font>: What is the purpose of the calorimeter and tracking isolation criteria?**\n",
    "\n",
    "$^{**}$_The calorimeter isolation is computed as the sum of the energies of calorimeter energy clusters in a cone of size $\\Delta R$=0.2 around the object._\n",
    "\n",
    "$^{***}$_The track isolation is defined as the scalar sum of the $p_T$ of tracks within a cone of size $\\Delta R$=0.3 around the object._\n",
    "    \n",
    "<u>Refer to the comprehensive table of ROOT branches and variables to determine which variables correspond to those used in the selection criteria</u>:"
   ]
  },
  {
   "cell_type": "markdown",
   "id": "9245440b",
   "metadata": {
    "collapsed": true
   },
   "source": [
    "<img src=\"http://opendata.atlas.cern/release/2020/documentation/datasets/pictures/tab_05.png\" width=\"900\" />\n",
    "\n",
    "<img src=\"http://opendata.atlas.cern/release/2020/documentation/datasets/pictures/tab_04.png\" width=\"900\" />"
   ]
  },
  {
   "cell_type": "markdown",
   "id": "32c60dc6",
   "metadata": {},
   "source": [
    "### W transverse mass calculation\n",
    "\n",
    "The formula to calculate the transverse mass of the W boson is as follows:\n",
    "\n",
    "$M_T^W = \\sqrt{2p_{T}^{\\ell}\\not\\!\\!E_T(1-\\cos \\Delta\\phi)}$\n",
    "\n",
    "where $p_{T}^{\\ell}$ is the transverse momentum of the lepton and $\\Delta \\phi$ is the azimuthal angle separation between the lepton and the direction of the missing transverse momentum.\n",
    "\n",
    "**<font color='red'>Homework</font>: Investigate/understand why the transverse mass of the W gets this formula**"
   ]
  },
  {
   "cell_type": "code",
   "execution_count": null,
   "id": "f0c920a9",
   "metadata": {},
   "outputs": [],
   "source": [
    "import ROOT\n",
    "from ROOT import TMath\n",
    "import math\n",
    "\n",
    "%jsroot on"
   ]
  },
  {
   "cell_type": "code",
   "execution_count": null,
   "id": "160b2843",
   "metadata": {},
   "outputs": [],
   "source": [
    "filename = \"data_A.1lep.root\"\n",
    "url = \"https://atlas-opendata.web.cern.ch/atlas-opendata/samples/2020/1lep/Data/\"\n",
    "f = ROOT.TFile.Open(url+filename)"
   ]
  },
  {
   "cell_type": "code",
   "execution_count": null,
   "id": "f988e3a4",
   "metadata": {},
   "outputs": [],
   "source": [
    "canvas = ROOT.TCanvas(\"Canvas\", \"c\", 800, 600)"
   ]
  },
  {
   "cell_type": "markdown",
   "id": "1737c73e",
   "metadata": {},
   "source": [
    "#### Make Stacked histograms\n",
    "A stacked histogram is a type of histogram that displays multiple datases stacked on top of each other, allowing for visual comparison of the contributions of each dataset/different types of particles etc to the total distribution. The main procedure to create this using PyROOT is showing to the following cell:"
   ]
  },
  {
   "cell_type": "code",
   "execution_count": null,
   "id": "ab1405cc",
   "metadata": {},
   "outputs": [],
   "source": [
    "# Define a stacked histogram with a title and axis labels\n",
    "hist_stack = ROOT.THStack(\"stacked\",\"Transverse mass of the W boson; mass [GeV]; events\")\n",
    "\n",
    "# Define histograms for the transverse mass of Ws decaying to electrons, muons (and taus) with a title, axis labels, and fill color\n",
    "\n",
    "hist_enu = ROOT.TH1F(\"enu\",\"Transverse mass of the W boson; mass [GeV]; events\",100,-0.5,200.5)\n",
    "hist_enu.SetFillColor(2) # More color options: https://root.cern.ch/doc/master/classTAttFill.html\n",
    "\n",
    "hist_munu = ROOT.TH1F(\"munu\",\"Transverse mass of the W boson; mass [GeV]; events\",100,-0.5,200.5)\n",
    "hist_munu.SetFillColor(3)\n",
    "\n",
    "hist_taunu = ROOT.TH1F(\"taunu\",\"Transverse mass of the W boson; mass [GeV]; events\",100,-0.5,200.5)\n",
    "hist_taunu.SetFillColor(4)"
   ]
  },
  {
   "cell_type": "code",
   "execution_count": null,
   "id": "d763a7dc",
   "metadata": {},
   "outputs": [],
   "source": [
    "tree = f.Get(\"mini\")\n",
    "print(f\"Number of entries: {tree.GetEntries()}\")"
   ]
  },
  {
   "cell_type": "code",
   "execution_count": null,
   "id": "b4b256b5",
   "metadata": {},
   "outputs": [],
   "source": [
    "counter = 0\n",
    "   \n",
    "# Define a function for the event selection\n",
    "def event_selection(tree, hist_enu, hist_munu, hist_taunu):\n",
    "    counter = 0\n",
    "    for event in tree:\n",
    "        counter += 1\n",
    "        if counter > 2000000: # Require any other value to increase or decrease the number of events to be processed\n",
    "            break\n",
    "        if (): # Ensure that the event satisfies the requirement of having exactly one lepton\n",
    "            \n",
    "            # Make Event selection:\n",
    "            #1) Trigger fires electron or muon,\n",
    "            #2) lep pT and MET thresholds,\n",
    "            #3) Requirements for calorimeter and track isolation\n",
    "                        \n",
    "                        #Calculate the transverse mass of the W boson\n",
    "                        M_WT = # Fill this line appropriately\n",
    "\n",
    "                        if M_WT > 0:\n",
    "                            # Call the function that fills the histograms\n",
    "                            fill_histograms(tree, hist_enu, hist_munu, hist_taunu, M_WT)\n",
    "\n",
    "# Define a function to fill the histograms\n",
    "def fill_histograms(tree, hist_enu, hist_munu, hist_taunu, M_WT):\n",
    "    if (): # Condition the lepton to be electron. Hint: You will find the pdgIDs for every particle here: https://pdg.lbl.gov/2007/reviews/montecarlorpp.pdf\n",
    "           # Hint2: For the antiparticle the pdgID gets negative values\n",
    "        hist_enu.Fill(M_WT / 1000)\n",
    "\n",
    "    if (): # Condition the lepton to be muon.\n",
    "        hist_munu.Fill(M_WT / 1000)\n",
    "\n",
    "    if (): # Condition the lepton to be tau (probably not necessary for this analysis. Can you check?)\n",
    "        hist_taunu.Fill(M_WT / 1000)\n",
    "\n",
    "# Call the main function\n",
    "event_selection(tree, hist_enu, hist_munu, hist_taunu)\n",
    "\n",
    "# Add the histograms for each channel to the stacked histogram\n",
    "hist_stack.Add(hist_enu)\n",
    "hist_stack.Add(hist_munu)\n",
    "hist_stack.Add(hist_taunu)\n",
    "hist_stack.Draw(\"\")"
   ]
  },
  {
   "cell_type": "code",
   "execution_count": null,
   "id": "01564d2a",
   "metadata": {},
   "outputs": [],
   "source": [
    "canvas.Draw(\"hist\")\n",
    "legend = ROOT.TLegend(1.0,1.0,1.0,1.0)\n",
    "legend.AddEntry(hist_munu, \"W #rightarrow #mu+#nu\")\n",
    "legend.AddEntry(hist_enu, \"W #rightarrow e+#nu\")\n",
    "legend.Draw()"
   ]
  },
  {
   "cell_type": "markdown",
   "id": "b0aad62a",
   "metadata": {},
   "source": [
    "**<font color='red'>Task</font>: Think of ways to improve the mass reconstruction**"
   ]
  },
  {
   "cell_type": "markdown",
   "id": "d0d78fdd",
   "metadata": {},
   "source": [
    "## Calculate the ratio (W$\\rightarrow$ e+$\\nu$)/(W$\\rightarrow$ $\\mu$+$\\nu$)\n",
    "\n",
    "This ratio referes to the relative frequencies at which W bosonsdecay into an electron and a neutrino and a muon and a neutrino.\n",
    "\n",
    "This ratio is important in the study of particle physics because it provides information about the relative probabilities of these two decay modes, which in turn can shed light on the properties of the W boson and the fundamental interactions that govern its behavior.\n",
    "\n",
    "The Standard Model of particle physics predicts that this ratio should be very close to 1 (1.01), meaning that the electron and muon decay modes should be equally likely. However, in experiments, the ratio is found to deviate slightly from this prediction.\n",
    "\n",
    "**In order to calculate this ratio could take the number of events directly from the histograms by using the \"Integral()\" function. This function computes the integral of the histogram over all bins, including underflow and overflow bins (if any), and returns the result as a floating-point value.**"
   ]
  },
  {
   "cell_type": "code",
   "execution_count": null,
   "id": "7a146f30",
   "metadata": {},
   "outputs": [],
   "source": [
    "#Calculate the ratio using the Integral() function from PyROOT\n",
    "ratio = #Fill this line\n",
    "print(f\"Ratio (W->e+nu)/(W->mu+nu) from data is {ratio:.2f}, theoretical value is 1.01\")"
   ]
  },
  {
   "cell_type": "markdown",
   "id": "3c22a5a4",
   "metadata": {},
   "source": [
    "**<font color='red'>Question</font>: Interpret the results obtained and attempt to provide an explanation for any deviations from the theoretical predictions, if present.**"
   ]
  },
  {
   "cell_type": "markdown",
   "id": "e95ea44d",
   "metadata": {},
   "source": [
    "## Charge asymmetry of the W boson production at the LHC"
   ]
  },
  {
   "cell_type": "markdown",
   "id": "19b047e0",
   "metadata": {},
   "source": [
    "At the LHC, both the $W^+$ and $W^-$ bosons are produced in collisions between high-energy protons. However, there is an observed asymmetry between the production rates of these two bosons. This asymmetry is caused by the fact that the proton beams at the LHC are made up of both positively and negatively charged protons. When a positively charged proton collides with a negatively charged proton, it can produce either a $W^+$ or $W^-$. However, the production rates of these two bosons are not equal.\n",
    "\n",
    "**<font color='red'>Task</font>: Quantify this charge asymmetry of the W boson production, using the datase above**\n",
    "\n",
    "**<font color='red'>Question</font>: Can you provide a physics-based explanation for this W boson charge assymetry in the proton-proton collisions at the LHC**\n"
   ]
  }
 ],
 "metadata": {
  "kernelspec": {
   "display_name": "Python 3 (ipykernel)",
   "language": "python",
   "name": "python3"
  },
  "language_info": {
   "codemirror_mode": {
    "name": "ipython",
    "version": 3
   },
   "file_extension": ".py",
   "mimetype": "text/x-python",
   "name": "python",
   "nbconvert_exporter": "python",
   "pygments_lexer": "ipython3",
   "version": "3.10.4"
  }
 },
 "nbformat": 4,
 "nbformat_minor": 5
}
